{
 "cells": [
  {
   "cell_type": "markdown",
   "id": "cda92cf0",
   "metadata": {},
   "source": [
    "## PROJECT OBJECTIVE AND ANALYSIS ROADMAP"
   ]
  },
  {
   "cell_type": "markdown",
   "id": "e89b8f41",
   "metadata": {},
   "source": [
    "The objective of this project is to analyze which factors have the most influence on the success of a game. We will look at variables like 'Total Downloads', 'Average Playtime', 'Rating', or 'Top 100 distribution' to understand which are the most successful games and what patterns they share between them. The big question we will try to answer after the analysis is: What makes a game successful? To reach this answer we will follow this roadmap:\n",
    "\n",
    "First, we will have a general overview of the dataset. We will look at the evolution of the industry in total games released, downloads per year, and average rating per year among others. Once we have a general sense of the data, we will move to analyze 3 big groups:\n",
    "- Price Groups: We have a column that classifies the game based on its price (free, cheap, moderate and expensive). We will analyze if the type of price has an impact on downloads, ratings, playtime and the distribution of the top 100.\n",
    "- Genres: We will study the impact of genre on the variables that we are analyzing. What are the most popular genres? Which has better retention? Which games dominate the top 100?\n",
    "- Publisher and Developers: We will see which publishers and developers dominate the industry. How many games they have developed, how many downloads they have, average rating, and price distribution. In short, what strategy do the industry giants follow?\n"
   ]
  },
  {
   "cell_type": "markdown",
   "id": "63db2628",
   "metadata": {},
   "source": [
    "## ABOUT THE DATASET "
   ]
  },
  {
   "cell_type": "markdown",
   "id": "09e15612",
   "metadata": {},
   "source": [
    "The original data set comes from a Kaggle user who collected the data from the Steam store(link:https://www.kaggle.com/datasets/nikdavis/steam-store-games). The dataset was not very clean and I had to make some changes to the columns, as well as add new ones that we will use in our analysis. The entire cleaning process can be found at : link. In this file, I explain the entire cleaning process that I carry out.\n",
    "\n",
    "The final dataset contains 47567 rows (each row is a different game) and 30 columns. The data set is large enough to drive a data project and draw possible conclusions about games on the Steam store.\n",
    "\n",
    "One last note about dataset modifications: I decided to focus my analysis from the 2010 to 2021 period(the original dataset has data since the beginning of steam). The gaming industry is constantly evolving. If we carry out our analysis from 2003 (when steam was created) until today, it would be more difficult to draw conclusions about the state of the industry. 15784 games were released before 2010 while 52439 were released after 2010, so we will still have a look at the vast majority of games released on Steam. I also removed all those games that had 0 downloads and 0 interactions(no Peak CCU, no recommendations, no rating, no positive and negative interactions...). Our focus is finding out what makes a game great. Anyone can upload a game to steam, so we have a lot of games. Many of those games never get a player, we are not interested in these games and skew our data.\n",
    "\n"
   ]
  },
  {
   "cell_type": "code",
   "execution_count": 71,
   "id": "48a2d652",
   "metadata": {},
   "outputs": [],
   "source": [
    "#Importing libraries:\n",
    "\n",
    "import numpy as np\n",
    "import pandas as pd\n",
    "%matplotlib inline\n",
    "import matplotlib.pyplot as plt\n",
    "import seaborn as sns\n",
    "from matplotlib.ticker import ScalarFormatter, FuncFormatter\n",
    "\n",
    "#Importing dataset:\n",
    "\n",
    "games = pd.read_csv('steam_cleaned2.csv')"
   ]
  },
  {
   "cell_type": "code",
   "execution_count": 72,
   "id": "aa2ca488",
   "metadata": {},
   "outputs": [
    {
     "data": {
      "text/html": [
       "<div>\n",
       "<style scoped>\n",
       "    .dataframe tbody tr th:only-of-type {\n",
       "        vertical-align: middle;\n",
       "    }\n",
       "\n",
       "    .dataframe tbody tr th {\n",
       "        vertical-align: top;\n",
       "    }\n",
       "\n",
       "    .dataframe thead th {\n",
       "        text-align: right;\n",
       "    }\n",
       "</style>\n",
       "<table border=\"1\" class=\"dataframe\">\n",
       "  <thead>\n",
       "    <tr style=\"text-align: right;\">\n",
       "      <th></th>\n",
       "      <th>Unnamed: 0</th>\n",
       "      <th>Name</th>\n",
       "      <th>Release date</th>\n",
       "      <th>Peak CCU</th>\n",
       "      <th>Price</th>\n",
       "      <th>Positive</th>\n",
       "      <th>Negative</th>\n",
       "      <th>Average playtime forever</th>\n",
       "      <th>Developers</th>\n",
       "      <th>Publishers</th>\n",
       "      <th>...</th>\n",
       "      <th>Adventure</th>\n",
       "      <th>Casual</th>\n",
       "      <th>Indie</th>\n",
       "      <th>Massively Multiplayer</th>\n",
       "      <th>RPG</th>\n",
       "      <th>Racing</th>\n",
       "      <th>Simulation</th>\n",
       "      <th>Strategy</th>\n",
       "      <th>Sports</th>\n",
       "      <th>Price_type</th>\n",
       "    </tr>\n",
       "  </thead>\n",
       "  <tbody>\n",
       "    <tr>\n",
       "      <th>0</th>\n",
       "      <td>1</td>\n",
       "      <td>Train Bandit</td>\n",
       "      <td>2017-10-12</td>\n",
       "      <td>0</td>\n",
       "      <td>0.99</td>\n",
       "      <td>53</td>\n",
       "      <td>5</td>\n",
       "      <td>0</td>\n",
       "      <td>Rusty Moyher</td>\n",
       "      <td>Wild Rooster</td>\n",
       "      <td>...</td>\n",
       "      <td>0</td>\n",
       "      <td>0</td>\n",
       "      <td>1</td>\n",
       "      <td>0</td>\n",
       "      <td>0</td>\n",
       "      <td>0</td>\n",
       "      <td>0</td>\n",
       "      <td>0</td>\n",
       "      <td>0</td>\n",
       "      <td>Paid</td>\n",
       "    </tr>\n",
       "    <tr>\n",
       "      <th>1</th>\n",
       "      <td>3</td>\n",
       "      <td>Henosis™</td>\n",
       "      <td>2020-07-23</td>\n",
       "      <td>0</td>\n",
       "      <td>5.99</td>\n",
       "      <td>3</td>\n",
       "      <td>0</td>\n",
       "      <td>0</td>\n",
       "      <td>Odd Critter Games</td>\n",
       "      <td>Odd Critter Games</td>\n",
       "      <td>...</td>\n",
       "      <td>1</td>\n",
       "      <td>1</td>\n",
       "      <td>1</td>\n",
       "      <td>0</td>\n",
       "      <td>0</td>\n",
       "      <td>0</td>\n",
       "      <td>0</td>\n",
       "      <td>0</td>\n",
       "      <td>0</td>\n",
       "      <td>Paid</td>\n",
       "    </tr>\n",
       "    <tr>\n",
       "      <th>2</th>\n",
       "      <td>4</td>\n",
       "      <td>Two Weeks in Painland</td>\n",
       "      <td>2020-02-03</td>\n",
       "      <td>0</td>\n",
       "      <td>0.00</td>\n",
       "      <td>50</td>\n",
       "      <td>8</td>\n",
       "      <td>0</td>\n",
       "      <td>Unusual Games</td>\n",
       "      <td>Unusual Games</td>\n",
       "      <td>...</td>\n",
       "      <td>1</td>\n",
       "      <td>0</td>\n",
       "      <td>1</td>\n",
       "      <td>0</td>\n",
       "      <td>0</td>\n",
       "      <td>0</td>\n",
       "      <td>0</td>\n",
       "      <td>0</td>\n",
       "      <td>0</td>\n",
       "      <td>Free</td>\n",
       "    </tr>\n",
       "    <tr>\n",
       "      <th>3</th>\n",
       "      <td>5</td>\n",
       "      <td>Wartune Reborn</td>\n",
       "      <td>2021-02-26</td>\n",
       "      <td>68</td>\n",
       "      <td>0.00</td>\n",
       "      <td>87</td>\n",
       "      <td>49</td>\n",
       "      <td>0</td>\n",
       "      <td>7Road</td>\n",
       "      <td>7Road</td>\n",
       "      <td>...</td>\n",
       "      <td>1</td>\n",
       "      <td>1</td>\n",
       "      <td>0</td>\n",
       "      <td>1</td>\n",
       "      <td>1</td>\n",
       "      <td>0</td>\n",
       "      <td>0</td>\n",
       "      <td>1</td>\n",
       "      <td>0</td>\n",
       "      <td>Free</td>\n",
       "    </tr>\n",
       "    <tr>\n",
       "      <th>4</th>\n",
       "      <td>8</td>\n",
       "      <td>MazM: Jekyll and Hyde</td>\n",
       "      <td>2020-04-02</td>\n",
       "      <td>1</td>\n",
       "      <td>14.99</td>\n",
       "      <td>76</td>\n",
       "      <td>6</td>\n",
       "      <td>0</td>\n",
       "      <td>Growing Seeds</td>\n",
       "      <td>CFK Co., Ltd.</td>\n",
       "      <td>...</td>\n",
       "      <td>1</td>\n",
       "      <td>0</td>\n",
       "      <td>0</td>\n",
       "      <td>0</td>\n",
       "      <td>1</td>\n",
       "      <td>0</td>\n",
       "      <td>1</td>\n",
       "      <td>1</td>\n",
       "      <td>0</td>\n",
       "      <td>Paid</td>\n",
       "    </tr>\n",
       "  </tbody>\n",
       "</table>\n",
       "<p>5 rows × 29 columns</p>\n",
       "</div>"
      ],
      "text/plain": [
       "   Unnamed: 0                   Name Release date  Peak CCU  Price  Positive  \\\n",
       "0           1           Train Bandit   2017-10-12         0   0.99        53   \n",
       "1           3               Henosis™   2020-07-23         0   5.99         3   \n",
       "2           4  Two Weeks in Painland   2020-02-03         0   0.00        50   \n",
       "3           5         Wartune Reborn   2021-02-26        68   0.00        87   \n",
       "4           8  MazM: Jekyll and Hyde   2020-04-02         1  14.99        76   \n",
       "\n",
       "   Negative  Average playtime forever         Developers         Publishers  \\\n",
       "0         5                         0       Rusty Moyher       Wild Rooster   \n",
       "1         0                         0  Odd Critter Games  Odd Critter Games   \n",
       "2         8                         0      Unusual Games      Unusual Games   \n",
       "3        49                         0              7Road              7Road   \n",
       "4         6                         0      Growing Seeds      CFK Co., Ltd.   \n",
       "\n",
       "   ...  Adventure  Casual  Indie  Massively Multiplayer  RPG Racing  \\\n",
       "0  ...          0       0      1                      0    0      0   \n",
       "1  ...          1       1      1                      0    0      0   \n",
       "2  ...          1       0      1                      0    0      0   \n",
       "3  ...          1       1      0                      1    1      0   \n",
       "4  ...          1       0      0                      0    1      0   \n",
       "\n",
       "   Simulation  Strategy  Sports  Price_type  \n",
       "0           0         0       0        Paid  \n",
       "1           0         0       0        Paid  \n",
       "2           0         0       0        Free  \n",
       "3           0         1       0        Free  \n",
       "4           1         1       0        Paid  \n",
       "\n",
       "[5 rows x 29 columns]"
      ]
     },
     "execution_count": 72,
     "metadata": {},
     "output_type": "execute_result"
    }
   ],
   "source": [
    "games.head()"
   ]
  },
  {
   "cell_type": "code",
   "execution_count": 73,
   "id": "70af0f14",
   "metadata": {},
   "outputs": [
    {
     "data": {
      "text/plain": [
       "(47567, 29)"
      ]
     },
     "execution_count": 73,
     "metadata": {},
     "output_type": "execute_result"
    }
   ],
   "source": [
    "games.shape"
   ]
  },
  {
   "cell_type": "code",
   "execution_count": 74,
   "id": "d9a5488a",
   "metadata": {},
   "outputs": [
    {
     "data": {
      "text/plain": [
       "Index(['Unnamed: 0', 'Name', 'Release date', 'Peak CCU', 'Price', 'Positive',\n",
       "       'Negative', 'Average playtime forever', 'Developers', 'Publishers',\n",
       "       'Owners', 'Release Year', 'total_reviews', 'rating_ratio', 'Rating',\n",
       "       'Price Group', 'Multi_player', 'Single_player', 'Action', 'Adventure',\n",
       "       'Casual', 'Indie', 'Massively Multiplayer', 'RPG', 'Racing',\n",
       "       'Simulation', 'Strategy', 'Sports', 'Price_type'],\n",
       "      dtype='object')"
      ]
     },
     "execution_count": 74,
     "metadata": {},
     "output_type": "execute_result"
    }
   ],
   "source": [
    "games.columns"
   ]
  },
  {
   "cell_type": "markdown",
   "id": "e18c2483",
   "metadata": {},
   "source": [
    "## GENERAL OVERVIEW\n"
   ]
  },
  {
   "cell_type": "markdown",
   "id": "830f561e",
   "metadata": {},
   "source": [
    "Let's start by looking at some general visualizations about the evolution of the gaming industry in steam.\n",
    "The first graph is going to be the most downloaded games. "
   ]
  },
  {
   "cell_type": "code",
   "execution_count": 75,
   "id": "97b466c4",
   "metadata": {},
   "outputs": [
    {
     "data": {
      "image/png": "[encoded data removed]",
      "text/plain": [
       "<Figure size 432x288 with 1 Axes>"
      ]
     },
     "metadata": {
      "needs_background": "light"
     },
     "output_type": "display_data"
    }
   ],
   "source": [
    "most_downloaded_games = games.groupby(\"Name\").agg({\n",
    "    \"Owners\":\"sum\"\n",
    "}).reset_index().sort_values(\"Owners\",ascending=False).head(10)\n",
    "\n",
    "#I am going to define a function to format the y-axis of the plot\n",
    "def millions_formatter(x,pos):\n",
    "    return '{:.0f}M'.format(x/1000000)\n",
    "\n",
    "sns.barplot(x='Name', y='Owners', data = most_downloaded_games)\n",
    "plt.xlabel('Game')\n",
    "plt.ylabel('Downloads (in millions)')\n",
    "plt.xticks(rotation=80)\n",
    "formatter = FuncFormatter(millions_formatter)\n",
    "plt.gca().yaxis.set_major_formatter(formatter)\n",
    "plt.show()"
   ]
  },
  {
   "cell_type": "markdown",
   "id": "d9f25068",
   "metadata": {},
   "source": [
    "The Top 10 is composed of games with at least 35M downloads. Dota is the king of steam with 150 million downloads. One step below we have shooters like PUBG and CSGO, as well as Amazon's MMO, New World. All these with 75M downloads.\n",
    "\n",
    "Let's have a look at how the downloads are distributed. How many games have more than 20k downloads? 100k? 1M? 10M?"
   ]
  },
  {
   "cell_type": "code",
   "execution_count": 76,
   "id": "fdd018ac",
   "metadata": {},
   "outputs": [
    {
     "name": "stdout",
     "output_type": "stream",
     "text": [
      "Games with fewer than 20,000 owners: 32538\n",
      " Games with more than 20,000 owners: 15029\n",
      "Games with fewer than 100,000 owners: 42011\n",
      " Games with more than 100,000 owners: 5556\n",
      "Games with fewer than 1M owners: 46728\n",
      " Games with more than 1M owners: 839\n",
      "Games with fewer than 10M owners: 47516\n",
      " Games with more than 10M owners: 51\n"
     ]
    }
   ],
   "source": [
    "\n",
    "print(f'Games with fewer than 20,000 owners: {games[games.Owners < 20000].shape[0]}\\n',\n",
    "      f'Games with more than 20,000 owners: {games[games.Owners >= 20000].shape[0]}')\n",
    "\n",
    "print(f'Games with fewer than 100,000 owners: {games[games.Owners < 100000].shape[0]}\\n',\n",
    "      f'Games with more than 100,000 owners: {games[games.Owners >= 100000].shape[0]}')\n",
    "\n",
    "print(f'Games with fewer than 1M owners: {games[games.Owners < 1000000].shape[0]}\\n',\n",
    "      f'Games with more than 1M owners: {games[games.Owners >= 1000000].shape[0]}')\n",
    "\n",
    "print(f'Games with fewer than 10M owners: {games[games.Owners < 10000000].shape[0]}\\n',\n",
    "      f'Games with more than 10M owners: {games[games.Owners >= 10000000].shape[0]}')\n"
   ]
  },
  {
   "cell_type": "code",
   "execution_count": 77,
   "id": "ffcec8bd",
   "metadata": {},
   "outputs": [
    {
     "name": "stdout",
     "output_type": "stream",
     "text": [
      "7500000\n"
     ]
    }
   ],
   "source": [
    "games_sorted = games.sort_values(by='Owners', ascending = False)[['Name', 'Owners', 'Price Group']].head(100)\n",
    "top_100 = games_sorted.nlargest(100, 'Owners')\n",
    "game_with_100_more_downloads = top_100.iloc[99]\n",
    "print(game_with_100_more_downloads['Owners'])"
   ]
  },
  {
   "cell_type": "markdown",
   "id": "8cacbb5d",
   "metadata": {},
   "source": [
    "From this data, we can say that most of the games do not exceed 20k downloads. From the 47567 games of the dataset, 15029 exceed 20K downloads, 5556 have more than 100k downloads, just 839 hit 1M downloads and 51 arrived to 10M users. Getting players to download your game is not an easy task. To be part of the top 100 most downloaded games, your game needs to have at least 750k downloads. \n",
    "\n",
    "How have game releases and downloads evolved during the 10 years of our dataset?"
   ]
  },
  {
   "cell_type": "code",
   "execution_count": 78,
   "id": "6240f85b",
   "metadata": {},
   "outputs": [
    {
     "data": {
      "text/plain": [
       "<Figure size 720x432 with 0 Axes>"
      ]
     },
     "metadata": {},
     "output_type": "display_data"
    },
    {
     "data": {
      "image/png": "[encoded data removed]",
      "text/plain": [
       "<Figure size 432x288 with 1 Axes>"
      ]
     },
     "metadata": {
      "needs_background": "light"
     },
     "output_type": "display_data"
    }
   ],
   "source": [
    "#Number of releases per year \n",
    "releases_year = games.groupby(\"Release Year\").agg({\n",
    "    \"Name\":\"count\"}).reset_index()\n",
    "fig = plt.figure(figsize=(10,6))\n",
    "ax = releases_year.plot(x='Release Year', y ='Name', kind='line',marker = 'o', legend=None)\n",
    "ax.set_xlabel('Year')\n",
    "ax.set_ylabel('Number of Releases')\n",
    "ax.set_title('Total Releases per Year')\n",
    "plt.show()\n"
   ]
  },
  {
   "cell_type": "code",
   "execution_count": 79,
   "id": "45f5c7ac",
   "metadata": {},
   "outputs": [
    {
     "data": {
      "text/plain": [
       "<Figure size 720x432 with 0 Axes>"
      ]
     },
     "metadata": {},
     "output_type": "display_data"
    },
    {
     "data": {
      "image/png": "[encoded data removed]",
      "text/plain": [
       "<Figure size 432x288 with 1 Axes>"
      ]
     },
     "metadata": {
      "needs_background": "light"
     },
     "output_type": "display_data"
    }
   ],
   "source": [
    "#number of downloads per year\n",
    "year_down = games.groupby('Release Year').agg({'Owners':'sum'}).reset_index()\n",
    "total_owners = year_down['Owners']\n",
    "\n",
    "fig = plt.figure(figsize=(10,6))\n",
    "ax = year_down.plot(x='Release Year', y ='Owners', kind='line', marker = 'o', legend=None)\n",
    "formatter = FuncFormatter(millions_formatter)\n",
    "plt.gca().yaxis.set_major_formatter(formatter)\n",
    "ax.set_xlabel('Year')\n",
    "ax.set_ylabel('Number of Downloads(in millions)')\n",
    "ax.set_title('Total Downloads per Year')\n",
    "sns.despine()\n",
    "plt.show()"
   ]
  },
  {
   "cell_type": "markdown",
   "id": "57ba1a4f",
   "metadata": {},
   "source": [
    "We have different tendencies for releases and downloads. More games have been released year by year on steam(with a small stagnation in 2019). While there is no clear tendency in downloads. From 2010 to 2013 we have an exponential increase. Then, it looks like the platform found its peak in 2017 with 700M downloads and suffered a decrease in downloads in the following years. With the arrival of COVID, downloads increased. It will be interesting to keep an eye on the following years to see if the platform can break the previous peak of 2017.\n",
    "\n",
    "Let's end up by looking at the average rating of games per year and average playtime\n"
   ]
  },
  {
   "cell_type": "code",
   "execution_count": 80,
   "id": "80d08a1e",
   "metadata": {},
   "outputs": [
    {
     "data": {
      "text/plain": [
       "<Figure size 720x432 with 0 Axes>"
      ]
     },
     "metadata": {},
     "output_type": "display_data"
    },
    {
     "data": {
      "image/png": "[encoded data removed]",
      "text/plain": [
       "<Figure size 432x288 with 1 Axes>"
      ]
     },
     "metadata": {
      "needs_background": "light"
     },
     "output_type": "display_data"
    }
   ],
   "source": [
    "#Mean rating per year\n",
    "#Rating was calculated based on the steam rating algoritm(in the cleaning project all the process is explained). Rating goes from 0-100\n",
    "#and is based on positive and negative reviews.\n",
    "rating_year = games.groupby(\"Release Year\").agg({\n",
    "    \"Rating\":\"mean\"}).reset_index()\n",
    "fig = plt.figure(figsize=(10,6))\n",
    "ax = rating_year.plot(x='Release Year', y ='Rating', kind='line',marker = 'o',legend=None)\n",
    "ax.set_xlabel('Year')\n",
    "ax.set_ylabel('Average Rating')\n",
    "plt.ylim(40,80)\n",
    "plt.show()\n"
   ]
  },
  {
   "cell_type": "markdown",
   "id": "20f3df92",
   "metadata": {},
   "source": [
    "So we can say that the average rating has been decreasing over time, but can the increasing number of releases impact negatively ratings? We could start by looking at the correlation between these variables, using the Pearson correlation coefficient,  which measures the strength and direction of a linear relationship:"
   ]
  },
  {
   "cell_type": "code",
   "execution_count": 81,
   "id": "77841af5",
   "metadata": {},
   "outputs": [],
   "source": [
    "total_releases = games.groupby('Release Year').agg({\n",
    "    \"Name\":\"count\"}).reset_index()\n",
    "average_rating = games.groupby('Release Year').agg({\n",
    "    \"Rating\":\"mean\"}).reset_index()\n"
   ]
  },
  {
   "cell_type": "code",
   "execution_count": 82,
   "id": "09f21c32",
   "metadata": {},
   "outputs": [
    {
     "name": "stdout",
     "output_type": "stream",
     "text": [
      "Correlation coefficient (r): -0.8743870488393959\n",
      "p-value: 0.0001987302169316128\n"
     ]
    }
   ],
   "source": [
    "import scipy.stats as stats\n",
    "r, p_value = stats.pearsonr(total_releases['Name'], average_rating['Rating'])\n",
    "print(f'Correlation coefficient (r): {r}\\np-value: {p_value}')"
   ]
  },
  {
   "cell_type": "markdown",
   "id": "d753e9e8",
   "metadata": {},
   "source": [
    "We have a strong negative correlation between the total number of releases per year and the average rating per year. This means that the increase in the number of releases has a strong negative effect on the quality of games. "
   ]
  },
  {
   "cell_type": "code",
   "execution_count": 83,
   "id": "a4653468",
   "metadata": {},
   "outputs": [
    {
     "data": {
      "text/plain": [
       "<Figure size 720x432 with 0 Axes>"
      ]
     },
     "metadata": {},
     "output_type": "display_data"
    },
    {
     "data": {
      "image/png": "[encoded data removed]",
      "text/plain": [
       "<Figure size 432x288 with 1 Axes>"
      ]
     },
     "metadata": {
      "needs_background": "light"
     },
     "output_type": "display_data"
    }
   ],
   "source": [
    "#Average playtime:\n",
    "average_playtime = games.groupby(['Release Year']).agg({'Average playtime forever':'mean'}).reset_index()\n",
    "fig = plt.figure(figsize=(10,6))\n",
    "ax = average_playtime.plot(x='Release Year', y ='Average playtime forever', kind='line',marker = 'o',legend=None)\n",
    "plt.ylim(0,750)\n",
    "ax.set_xlabel('Year')\n",
    "ax.set_ylabel('Average Playtime(in hours)')\n",
    "plt.show()\n",
    "\n",
    "\n"
   ]
  },
  {
   "cell_type": "markdown",
   "id": "b33ba0d9",
   "metadata": {},
   "source": [
    "After an increase in average playtime at the beginning of the decade, we see a huge drop in engagement. As with the average rating, this drop may also be related to the increase in the number of releases. Let's look at the correlation between the two variables."
   ]
  },
  {
   "cell_type": "code",
   "execution_count": 84,
   "id": "26f53714",
   "metadata": {},
   "outputs": [
    {
     "name": "stdout",
     "output_type": "stream",
     "text": [
      "Correlation coefficient (r): -0.9317834513818742\n",
      "p-value: 1.0367430592649194e-05\n"
     ]
    }
   ],
   "source": [
    "r, p_value = stats.pearsonr(total_releases['Name'], average_playtime['Average playtime forever'])\n",
    "print(f'Correlation coefficient (r): {r}\\np-value: {p_value}')"
   ]
  },
  {
   "cell_type": "markdown",
   "id": "f6cf49e1",
   "metadata": {},
   "source": [
    "The huge increase in the number of releases has a huge impact on the quality(rating) of the games and engagement(average hours played)."
   ]
  },
  {
   "cell_type": "markdown",
   "id": "a00a01ee",
   "metadata": {},
   "source": [
    "Main findings of the general overview:\n",
    "\n",
    "- Most of the games don't get to 20k downloads. A few giants surpass de 10M players.\n",
    "    \n",
    "- The huge increase in game releases had a negative impact on quality(Rating) and engagement(average playtime)\n",
    "    \n",
    "- Total downloads seem to have stagnated. \n",
    "  "
   ]
  },
  {
   "cell_type": "markdown",
   "id": "08cffb4d",
   "metadata": {},
   "source": [
    "## PRICING\n"
   ]
  },
  {
   "cell_type": "markdown",
   "id": "f74afe8f",
   "metadata": {},
   "source": [
    "Prices types are assigned in the following way:\n",
    "   - Free-to-Play -> Price = 0\n",
    "   - Cheap -> Price between 0 and 10\n",
    "   - Moderate -> Price between 10 and 40\n",
    "   - Expensive -> Price bigger than 40"
   ]
  },
  {
   "cell_type": "markdown",
   "id": "2ba16b7c",
   "metadata": {},
   "source": [
    "### Releases"
   ]
  },
  {
   "cell_type": "code",
   "execution_count": 85,
   "id": "73b13028",
   "metadata": {
    "scrolled": true
   },
   "outputs": [
    {
     "data": {
      "image/png": "[encoded data removed]",
      "text/plain": [
       "<Figure size 432x288 with 1 Axes>"
      ]
     },
     "metadata": {
      "needs_background": "light"
     },
     "output_type": "display_data"
    }
   ],
   "source": [
    "releases = games.groupby(['Price Group']).agg({'Name':'count'}).reset_index()\n",
    "sns.barplot(x='Price Group', y='Name', data = releases)\n",
    "plt.show()"
   ]
  },
  {
   "cell_type": "markdown",
   "id": "43f9d2b7",
   "metadata": {},
   "source": [
    "### Downloads"
   ]
  },
  {
   "cell_type": "code",
   "execution_count": 86,
   "id": "5e16e068",
   "metadata": {},
   "outputs": [
    {
     "data": {
      "image/png": "[encoded data removed]",
      "text/plain": [
       "<Figure size 432x288 with 1 Axes>"
      ]
     },
     "metadata": {
      "needs_background": "light"
     },
     "output_type": "display_data"
    }
   ],
   "source": [
    "#Total downloads per price type\n",
    "total_owner_price = games.groupby(['Price Group']).agg({'Owners':'sum'}).reset_index()\n",
    "sns.barplot(x='Price Group', y='Owners', data = total_owner_price)\n",
    "formatter = FuncFormatter(millions_formatter)\n",
    "plt.gca().yaxis.set_major_formatter(formatter)\n",
    "plt.show()"
   ]
  },
  {
   "cell_type": "code",
   "execution_count": 87,
   "id": "aec7dcfd",
   "metadata": {},
   "outputs": [
    {
     "data": {
      "image/png": "[encoded data removed]",
      "text/plain": [
       "<Figure size 432x288 with 1 Axes>"
      ]
     },
     "metadata": {
      "needs_background": "light"
     },
     "output_type": "display_data"
    }
   ],
   "source": [
    "#Average downloads per price type\n",
    "avg_owners_price = games.groupby(['Price Group']).agg({'Owners':'mean'}).reset_index()\n",
    "sns.barplot(x='Price Group', y='Owners', data = avg_owners_price)\n",
    "plt.show()"
   ]
  },
  {
   "cell_type": "markdown",
   "id": "16a734f4",
   "metadata": {},
   "source": [
    "Looking at the number of releases and downloads we see that there may be a saturation of cheap games. Steam is dominated by cheap games. The total number of cheap games published on steam is greater than the sum of the other price types. Despite this, the Free-to-Play and Moderate games have a higher total number of downloads.\n",
    "When looking at the average downloads per price type, cheap games are by far the games that have fewer downloads per game. Expensive games stand out above the rest. This is directly related to one of the conclusions we have drawn before, the total number of games released has a negative impact on the overall quality and retention of games on the platform. Expensive games are the ones with the fewest releases by far but at the same time, they are the ones with the most downloads on average.\n",
    "\n",
    "Let's go a bit deeper and look at how the different price types are distributed in the different download ranges."
   ]
  },
  {
   "cell_type": "markdown",
   "id": "ddad142c",
   "metadata": {},
   "source": [
    "### How is each type of price distributed in the different ownership ranges?"
   ]
  },
  {
   "cell_type": "code",
   "execution_count": 88,
   "id": "c6a8746f",
   "metadata": {},
   "outputs": [],
   "source": [
    "\n",
    "f2p = games[(games['Price Group'] == 'Free-to-Play')][['Name', 'Rating', 'Price Group','Owners']]\n",
    "cheap = games[(games['Price Group'] == 'Cheap')][['Name', 'Rating','Price Group','Owners']]\n",
    "moderate = games[(games['Price Group'] == 'Moderate')][['Name', 'Rating','Price Group', 'Owners']]\n",
    "expensive = games[(games['Price Group'] == 'Expensive')][['Name', 'Rating','Price Group','Owners']]\n",
    "f2p_ownership_distrib = f2p.groupby('Owners').agg({'Name':'count'}).reset_index().rename(columns={'Name': 'Free-to-Play'})\n",
    "cheap_ownership_distrib = cheap.groupby('Owners').agg({'Name':'count'}).reset_index().rename(columns={'Name': 'Cheap'})\n",
    "moderate_ownership_distrib = moderate.groupby('Owners').agg({'Name':'count'}).reset_index().rename(columns={'Name': 'Moderate'})\n",
    "expensive_ownership_distrib = expensive.groupby('Owners').agg({'Name':'count'}).reset_index().rename(columns={'Name': 'Expensive'})\n",
    "\n",
    "#Add sufix to the columns\n",
    "\n",
    "f2p_ownership_distrib = f2p_ownership_distrib.assign(F2P_Perc = (f2p_ownership_distrib['Free-to-Play']/len(f2p)*100))\n",
    "cheap_ownership_distrib = cheap_ownership_distrib.assign(Cheap_Perc = (cheap_ownership_distrib['Cheap']/len(cheap)*100))\n",
    "moderate_ownership_distrib = moderate_ownership_distrib.assign(Mod_Perc = (moderate_ownership_distrib['Moderate']/len(moderate)*100))\n",
    "expensive_ownership_distrib = expensive_ownership_distrib.assign(Exp_Perc = (expensive_ownership_distrib['Expensive']/len(expensive)*100))"
   ]
  },
  {
   "cell_type": "code",
   "execution_count": 89,
   "id": "a4a4bb49",
   "metadata": {},
   "outputs": [
    {
     "data": {
      "text/html": [
       "<div>\n",
       "<style scoped>\n",
       "    .dataframe tbody tr th:only-of-type {\n",
       "        vertical-align: middle;\n",
       "    }\n",
       "\n",
       "    .dataframe tbody tr th {\n",
       "        vertical-align: top;\n",
       "    }\n",
       "\n",
       "    .dataframe thead th {\n",
       "        text-align: right;\n",
       "    }\n",
       "</style>\n",
       "<table border=\"1\" class=\"dataframe\">\n",
       "  <thead>\n",
       "    <tr style=\"text-align: right;\">\n",
       "      <th></th>\n",
       "      <th>Owners</th>\n",
       "      <th>Free-to-Play</th>\n",
       "      <th>F2P_Perc</th>\n",
       "      <th>Cheap</th>\n",
       "      <th>Cheap_Perc</th>\n",
       "      <th>Moderate</th>\n",
       "      <th>Mod_Perc</th>\n",
       "      <th>Expensive</th>\n",
       "      <th>Exp_Perc</th>\n",
       "    </tr>\n",
       "  </thead>\n",
       "  <tbody>\n",
       "    <tr>\n",
       "      <th>0</th>\n",
       "      <td>10000</td>\n",
       "      <td>2944</td>\n",
       "      <td>48.993177</td>\n",
       "      <td>24115</td>\n",
       "      <td>75.740444</td>\n",
       "      <td>5340</td>\n",
       "      <td>56.953925</td>\n",
       "      <td>139</td>\n",
       "      <td>40.524781</td>\n",
       "    </tr>\n",
       "    <tr>\n",
       "      <th>1</th>\n",
       "      <td>35000</td>\n",
       "      <td>1156</td>\n",
       "      <td>19.237810</td>\n",
       "      <td>3908</td>\n",
       "      <td>12.274255</td>\n",
       "      <td>1224</td>\n",
       "      <td>13.054608</td>\n",
       "      <td>39</td>\n",
       "      <td>11.370262</td>\n",
       "    </tr>\n",
       "    <tr>\n",
       "      <th>2</th>\n",
       "      <td>75000</td>\n",
       "      <td>656</td>\n",
       "      <td>10.916958</td>\n",
       "      <td>1683</td>\n",
       "      <td>5.285970</td>\n",
       "      <td>785</td>\n",
       "      <td>8.372440</td>\n",
       "      <td>22</td>\n",
       "      <td>6.413994</td>\n",
       "    </tr>\n",
       "    <tr>\n",
       "      <th>3</th>\n",
       "      <td>150000</td>\n",
       "      <td>460</td>\n",
       "      <td>7.655184</td>\n",
       "      <td>1022</td>\n",
       "      <td>3.209900</td>\n",
       "      <td>632</td>\n",
       "      <td>6.740614</td>\n",
       "      <td>21</td>\n",
       "      <td>6.122449</td>\n",
       "    </tr>\n",
       "    <tr>\n",
       "      <th>4</th>\n",
       "      <td>350000</td>\n",
       "      <td>396</td>\n",
       "      <td>6.590115</td>\n",
       "      <td>750</td>\n",
       "      <td>2.355602</td>\n",
       "      <td>636</td>\n",
       "      <td>6.783276</td>\n",
       "      <td>32</td>\n",
       "      <td>9.329446</td>\n",
       "    </tr>\n",
       "    <tr>\n",
       "      <th>5</th>\n",
       "      <td>750000</td>\n",
       "      <td>167</td>\n",
       "      <td>2.779165</td>\n",
       "      <td>220</td>\n",
       "      <td>0.690976</td>\n",
       "      <td>355</td>\n",
       "      <td>3.786263</td>\n",
       "      <td>26</td>\n",
       "      <td>7.580175</td>\n",
       "    </tr>\n",
       "    <tr>\n",
       "      <th>6</th>\n",
       "      <td>1500000</td>\n",
       "      <td>104</td>\n",
       "      <td>1.730737</td>\n",
       "      <td>85</td>\n",
       "      <td>0.266968</td>\n",
       "      <td>208</td>\n",
       "      <td>2.218430</td>\n",
       "      <td>31</td>\n",
       "      <td>9.037901</td>\n",
       "    </tr>\n",
       "    <tr>\n",
       "      <th>7</th>\n",
       "      <td>3500000</td>\n",
       "      <td>74</td>\n",
       "      <td>1.231486</td>\n",
       "      <td>40</td>\n",
       "      <td>0.125632</td>\n",
       "      <td>150</td>\n",
       "      <td>1.599829</td>\n",
       "      <td>26</td>\n",
       "      <td>7.580175</td>\n",
       "    </tr>\n",
       "    <tr>\n",
       "      <th>8</th>\n",
       "      <td>7500000</td>\n",
       "      <td>26</td>\n",
       "      <td>0.432684</td>\n",
       "      <td>8</td>\n",
       "      <td>0.025126</td>\n",
       "      <td>31</td>\n",
       "      <td>0.330631</td>\n",
       "      <td>5</td>\n",
       "      <td>1.457726</td>\n",
       "    </tr>\n",
       "    <tr>\n",
       "      <th>9</th>\n",
       "      <td>15000000</td>\n",
       "      <td>14</td>\n",
       "      <td>0.232984</td>\n",
       "      <td>4</td>\n",
       "      <td>0.012563</td>\n",
       "      <td>11</td>\n",
       "      <td>0.117321</td>\n",
       "      <td>2</td>\n",
       "      <td>0.583090</td>\n",
       "    </tr>\n",
       "  </tbody>\n",
       "</table>\n",
       "</div>"
      ],
      "text/plain": [
       "     Owners  Free-to-Play   F2P_Perc  Cheap  Cheap_Perc  Moderate   Mod_Perc  \\\n",
       "0     10000          2944  48.993177  24115   75.740444      5340  56.953925   \n",
       "1     35000          1156  19.237810   3908   12.274255      1224  13.054608   \n",
       "2     75000           656  10.916958   1683    5.285970       785   8.372440   \n",
       "3    150000           460   7.655184   1022    3.209900       632   6.740614   \n",
       "4    350000           396   6.590115    750    2.355602       636   6.783276   \n",
       "5    750000           167   2.779165    220    0.690976       355   3.786263   \n",
       "6   1500000           104   1.730737     85    0.266968       208   2.218430   \n",
       "7   3500000            74   1.231486     40    0.125632       150   1.599829   \n",
       "8   7500000            26   0.432684      8    0.025126        31   0.330631   \n",
       "9  15000000            14   0.232984      4    0.012563        11   0.117321   \n",
       "\n",
       "   Expensive   Exp_Perc  \n",
       "0        139  40.524781  \n",
       "1         39  11.370262  \n",
       "2         22   6.413994  \n",
       "3         21   6.122449  \n",
       "4         32   9.329446  \n",
       "5         26   7.580175  \n",
       "6         31   9.037901  \n",
       "7         26   7.580175  \n",
       "8          5   1.457726  \n",
       "9          2   0.583090  "
      ]
     },
     "execution_count": 89,
     "metadata": {},
     "output_type": "execute_result"
    }
   ],
   "source": [
    "#Merge\n",
    "merged = pd.merge(f2p_ownership_distrib,cheap_ownership_distrib, on='Owners').merge(moderate_ownership_distrib, on='Owners').merge(expensive_ownership_distrib, on='Owners')\n",
    "merged = merged.reset_index(drop=True)\n",
    "merged"
   ]
  },
  {
   "cell_type": "markdown",
   "id": "41c9493b",
   "metadata": {},
   "source": [
    "We can draw some interesting conclusions from the table. \n",
    "\n",
    "- Free-to-play games: they dominate for the 35k-150k downloads. For large ranges, they are behind expensive games and for some ranges also behind Moderate games. So, free-to-play games can get above 10k downloads but have difficulties getting over 350k. It is also important to say that before cleaning the dataset, there were a lot of games with zero or few downloads and no interactions. Free-to-play games dominated this type of game. Free games have a higher tendency for players to download them but never play them.\n",
    "\n",
    "- Cheap games: Most cheap games are situated in the range of 10k downloads. 75% of all cheap games are situated in this range. They are the type of game that has the fewest games in the highest downloads range. This coincides with the conclusions we have drawn before, there is a saturation of cheap games. Even though these games have downloads, they fail to attract a large player base.\n",
    "\n",
    "- Moderate games: They are the type of game with more games with 10k downloads. We can also see how the game distribution from the 35k to 350k range is better distributed than in the rest of the games. In the range of 750k-35M, they are just behind expensive games.\n",
    "\n",
    "- Expensive games: Expensive games dominate after 350k downloads.\n",
    "\n",
    "\n",
    "Let's now look at absolute values and how the top 100 is distributed. I will make some new tables to better analyze these variables. \n"
   ]
  },
  {
   "cell_type": "markdown",
   "id": "0f1d19be",
   "metadata": {},
   "source": [
    "### How is the top 100 most downloaded games distributed by price group?"
   ]
  },
  {
   "cell_type": "code",
   "execution_count": 90,
   "id": "0b62a10d",
   "metadata": {},
   "outputs": [
    {
     "data": {
      "text/html": [
       "<div>\n",
       "<style scoped>\n",
       "    .dataframe tbody tr th:only-of-type {\n",
       "        vertical-align: middle;\n",
       "    }\n",
       "\n",
       "    .dataframe tbody tr th {\n",
       "        vertical-align: top;\n",
       "    }\n",
       "\n",
       "    .dataframe thead th {\n",
       "        text-align: right;\n",
       "    }\n",
       "</style>\n",
       "<table border=\"1\" class=\"dataframe\">\n",
       "  <thead>\n",
       "    <tr style=\"text-align: right;\">\n",
       "      <th></th>\n",
       "      <th>Price Group</th>\n",
       "      <th>Owners</th>\n",
       "    </tr>\n",
       "  </thead>\n",
       "  <tbody>\n",
       "    <tr>\n",
       "      <th>0</th>\n",
       "      <td>Cheap</td>\n",
       "      <td>13</td>\n",
       "    </tr>\n",
       "    <tr>\n",
       "      <th>1</th>\n",
       "      <td>Expensive</td>\n",
       "      <td>5</td>\n",
       "    </tr>\n",
       "    <tr>\n",
       "      <th>2</th>\n",
       "      <td>Free-to-Play</td>\n",
       "      <td>47</td>\n",
       "    </tr>\n",
       "    <tr>\n",
       "      <th>3</th>\n",
       "      <td>Moderate</td>\n",
       "      <td>35</td>\n",
       "    </tr>\n",
       "  </tbody>\n",
       "</table>\n",
       "</div>"
      ],
      "text/plain": [
       "    Price Group  Owners\n",
       "0         Cheap      13\n",
       "1     Expensive       5\n",
       "2  Free-to-Play      47\n",
       "3      Moderate      35"
      ]
     },
     "execution_count": 90,
     "metadata": {},
     "output_type": "execute_result"
    }
   ],
   "source": [
    "top100 = games.sort_values(by='Owners', ascending = False)[['Name', 'Owners', 'Price Group']].head(100)\n",
    "top100_count = top100.groupby(['Price Group']).agg({'Owners':'count'}).reset_index()\n",
    "top100_count"
   ]
  },
  {
   "cell_type": "code",
   "execution_count": 91,
   "id": "19453d5e",
   "metadata": {},
   "outputs": [
    {
     "data": {
      "image/png": "[encoded data removed]",
      "text/plain": [
       "<Figure size 432x288 with 1 Axes>"
      ]
     },
     "metadata": {
      "needs_background": "light"
     },
     "output_type": "display_data"
    }
   ],
   "source": [
    "sns.barplot(x='Price Group',y='Owners', data=top100_count)\n",
    "plt.show()"
   ]
  },
  {
   "cell_type": "markdown",
   "id": "eec63034",
   "metadata": {},
   "source": [
    "Free-to-play and moderate games dominate the top 100."
   ]
  },
  {
   "cell_type": "markdown",
   "id": "07f9a177",
   "metadata": {},
   "source": [
    "### How many games of each type has 20000k+. how many 50000k+, how many 100k+, how many 500000k+, how many 1M+?"
   ]
  },
  {
   "cell_type": "code",
   "execution_count": 92,
   "id": "1a493378",
   "metadata": {},
   "outputs": [],
   "source": [
    "prices = games[['Name', 'Owners', 'Price Group', 'Price_type']]"
   ]
  },
  {
   "cell_type": "code",
   "execution_count": 93,
   "id": "05705472",
   "metadata": {},
   "outputs": [],
   "source": [
    "import warnings\n",
    "warnings.filterwarnings('ignore')\n",
    "prices['+10k'] = np.where(prices['Owners'] >= 10000, 1, 0)\n",
    "prices['+50k'] = np.where(prices['Owners'] >= 50000, 1, 0)\n",
    "prices['+100k'] = np.where(prices['Owners'] >= 100000, 1, 0)\n",
    "prices['+500k'] = np.where(prices['Owners'] >= 500000, 1, 0)\n",
    "prices['+1M'] = np.where(prices['Owners'] >= 1000000, 1, 0)\n",
    "prices['+10M'] = np.where(prices['Owners'] >= 10000000, 1, 0)\n",
    "prices['+100M'] = np.where(prices['Owners'] >= 100000000, 1, 0)"
   ]
  },
  {
   "cell_type": "code",
   "execution_count": 94,
   "id": "3a559bb1",
   "metadata": {},
   "outputs": [],
   "source": [
    "columns = ['+10k', '+50k', '+100k', '+500k', '+1M','+10M','+100M']\n",
    "pivot = prices.pivot_table(index='Price Group', \n",
    "                       values=['+10k', '+50k', '+100k', '+500k', '+1M','+10M','+100M'], aggfunc=np.sum\n",
    "                      ).sort_index()"
   ]
  },
  {
   "cell_type": "code",
   "execution_count": 95,
   "id": "a163f223",
   "metadata": {},
   "outputs": [
    {
     "data": {
      "text/html": [
       "<div>\n",
       "<style scoped>\n",
       "    .dataframe tbody tr th:only-of-type {\n",
       "        vertical-align: middle;\n",
       "    }\n",
       "\n",
       "    .dataframe tbody tr th {\n",
       "        vertical-align: top;\n",
       "    }\n",
       "\n",
       "    .dataframe thead th {\n",
       "        text-align: right;\n",
       "    }\n",
       "</style>\n",
       "<table border=\"1\" class=\"dataframe\">\n",
       "  <thead>\n",
       "    <tr style=\"text-align: right;\">\n",
       "      <th></th>\n",
       "      <th>+10k</th>\n",
       "      <th>+50k</th>\n",
       "      <th>+100k</th>\n",
       "      <th>+500k</th>\n",
       "      <th>+1M</th>\n",
       "      <th>+10M</th>\n",
       "      <th>+100M</th>\n",
       "    </tr>\n",
       "    <tr>\n",
       "      <th>Price Group</th>\n",
       "      <th></th>\n",
       "      <th></th>\n",
       "      <th></th>\n",
       "      <th></th>\n",
       "      <th></th>\n",
       "      <th></th>\n",
       "      <th></th>\n",
       "    </tr>\n",
       "  </thead>\n",
       "  <tbody>\n",
       "    <tr>\n",
       "      <th>Free-to-Play</th>\n",
       "      <td>6009</td>\n",
       "      <td>1909</td>\n",
       "      <td>1253</td>\n",
       "      <td>397</td>\n",
       "      <td>230</td>\n",
       "      <td>26</td>\n",
       "      <td>1</td>\n",
       "    </tr>\n",
       "    <tr>\n",
       "      <th>Cheap</th>\n",
       "      <td>31839</td>\n",
       "      <td>3816</td>\n",
       "      <td>2133</td>\n",
       "      <td>361</td>\n",
       "      <td>141</td>\n",
       "      <td>8</td>\n",
       "      <td>0</td>\n",
       "    </tr>\n",
       "    <tr>\n",
       "      <th>Moderate</th>\n",
       "      <td>9376</td>\n",
       "      <td>2812</td>\n",
       "      <td>2027</td>\n",
       "      <td>759</td>\n",
       "      <td>404</td>\n",
       "      <td>15</td>\n",
       "      <td>0</td>\n",
       "    </tr>\n",
       "    <tr>\n",
       "      <th>Expensive</th>\n",
       "      <td>343</td>\n",
       "      <td>165</td>\n",
       "      <td>143</td>\n",
       "      <td>90</td>\n",
       "      <td>64</td>\n",
       "      <td>2</td>\n",
       "      <td>0</td>\n",
       "    </tr>\n",
       "  </tbody>\n",
       "</table>\n",
       "</div>"
      ],
      "text/plain": [
       "               +10k  +50k  +100k  +500k  +1M  +10M  +100M\n",
       "Price Group                                              \n",
       "Free-to-Play   6009  1909   1253    397  230    26      1\n",
       "Cheap         31839  3816   2133    361  141     8      0\n",
       "Moderate       9376  2812   2027    759  404    15      0\n",
       "Expensive       343   165    143     90   64     2      0"
      ]
     },
     "execution_count": 95,
     "metadata": {},
     "output_type": "execute_result"
    }
   ],
   "source": [
    "pivot = pivot[['+10k', '+50k', '+100k', '+500k', '+1M','+10M','+100M']].reindex(['Free-to-Play', 'Cheap', 'Moderate', 'Expensive'])\n",
    "pivot"
   ]
  },
  {
   "cell_type": "markdown",
   "id": "b25760a8",
   "metadata": {},
   "source": [
    "By looking at absolute numbers we can arrive at some conclusions:\n",
    "\n",
    "- Free-to-play is the type of price with more games in +10M downloads\n",
    "- Cheap games suffer to get more than 10k downloads\n",
    "- As we have seen with percentages, moderate games have a better distribution of games than the other types\n",
    "- Expensive games, despite being a small number of games allocate an important number of games in the large downloads ranges\n",
    "\n",
    "To sum up the percentages and absolute numbers study.\n",
    "- Free-to-play games have a double-edged sword. Being free allows them to arrive at a bigger audience. This means that some players will download the game and never play, but if the game is good enough, it can bring network effects and grow a large audience. Free-to-play games dominate for +10M downloads.\n",
    "- Cheap games are oversaturated. Are the most released games but can't grow over the 10k downloads. This can be a sign that games should look to alternative pricing strategies. \n",
    "- Moderate games work well. They can attract a player base(are the type of games with less than 0 downloads games) and have a nice distribution at the mid-large downloads range. \n",
    "- Expensive games are the least released games but are also the type of game that relatively are more able to get games to large downloads\n",
    "\n",
    "It would be great to have the budget for each game. Looking at the data it makes sense to think that the budget can have a huge effect on the downloads of the games. Expensive games are normally triple AAA games or games with huge budgets like can be New World. At the same time, Free-to-play games that dominate the top 100 like can be Dota2 or CS:GO have a huge budget. So, the budget can be a huge factor in the success of the games. Unfortunately, we don't have that information in the dataset."
   ]
  },
  {
   "cell_type": "markdown",
   "id": "544f4961",
   "metadata": {},
   "source": [
    "### Playtime"
   ]
  },
  {
   "cell_type": "code",
   "execution_count": 96,
   "id": "863990c2",
   "metadata": {},
   "outputs": [
    {
     "data": {
      "image/png": "[encoded data removed]",
      "text/plain": [
       "<Figure size 432x288 with 1 Axes>"
      ]
     },
     "metadata": {
      "needs_background": "light"
     },
     "output_type": "display_data"
    }
   ],
   "source": [
    "#Average playtime per price group\n",
    "average_playtime = games.groupby(['Price Group']).agg({'Average playtime forever':'mean'}).reset_index()\n",
    "sns.barplot(x='Price Group', y='Average playtime forever', data = average_playtime)\n",
    "plt.show()"
   ]
  },
  {
   "cell_type": "markdown",
   "id": "e0580560",
   "metadata": {},
   "source": [
    "### Rating"
   ]
  },
  {
   "cell_type": "code",
   "execution_count": 97,
   "id": "cfc8106b",
   "metadata": {},
   "outputs": [
    {
     "data": {
      "image/png": "[encoded data removed]",
      "text/plain": [
       "<Figure size 1008x720 with 1 Axes>"
      ]
     },
     "metadata": {
      "needs_background": "light"
     },
     "output_type": "display_data"
    }
   ],
   "source": [
    "order = ['Cheap', 'Expensive','Free-to-Play', 'Moderate']\n",
    "fig, ax = plt.subplots(figsize=(14,10))\n",
    "sns.boxplot(x='Price Group', y='Rating', data=games, order = order)\n",
    "ax.axhline(games.Rating.median(), color='black', lw=3, alpha=.5)\n",
    "ax.text(9.6, games.Rating.median()-1, 'median', color='black', alpha=.8)\n",
    "\n",
    "ax.tick_params(axis='x', labelsize=8)\n",
    "ax.set_title(\"Rating distribution by genre\");\n",
    "plt.show()"
   ]
  },
  {
   "cell_type": "code",
   "execution_count": 98,
   "id": "2f68454a",
   "metadata": {},
   "outputs": [
    {
     "name": "stdout",
     "output_type": "stream",
     "text": [
      "Mean rating F2P: 60.46%\n",
      "Mean rating Cheap: 57.05%\n",
      "Mean rating Moderate: 65.22%\n",
      "Mean rating Expensive: 67.17%\n"
     ]
    }
   ],
   "source": [
    "print(f'Mean rating F2P: {f2p.Rating.mean():.2f}%')\n",
    "print(f'Mean rating Cheap: {cheap.Rating.mean():.2f}%')\n",
    "print(f'Mean rating Moderate: {moderate.Rating.mean():.2f}%')\n",
    "print(f'Mean rating Expensive: {expensive.Rating.mean():.2f}%')"
   ]
  },
  {
   "cell_type": "markdown",
   "id": "5abbf604",
   "metadata": {},
   "source": [
    "- Average playtime: we can see that expensive games are the games that on average have better retention. This may be produced by the sunk cost of spending a lot of money on the game. The fact that you have to spend an important amount of money on the game will make spend more time playing it to make the investment worth it. This sunk cost does not have an effect if the investment is not large enough. We see how free-to-play games have a better average playtime than cheap games and it's close to moderate games. As we have seen with the previous variables, cheap games are not working on steam. \n",
    "\n",
    "- Rating: we see how expensive and moderate games have a big difference in rating with free-to-play and cheap games. Large prices have an impact on the rating. As we have discussed earlier, this could be done by the budget of the games. \n",
    "\n",
    "Let's see if the difference between the different price groups is significant. By performing an analysis of variance(ANOVA), we can determine if the variation in the rating is determined by the variation in price.\n",
    "The null hypothesis is: #Ho: games grouped by price type have the same population mean(price variations have no effect on the mean)."
   ]
  },
  {
   "cell_type": "code",
   "execution_count": 99,
   "id": "aa3901ad",
   "metadata": {},
   "outputs": [],
   "source": [
    "#Create specific dataframes to make the study:\n",
    "f2p = games[(games['Price Group'] == 'Free-to-Play')]\n",
    "f2p_rat= f2p['Rating']\n",
    "cheap = games[(games['Price Group'] == 'Cheap')]\n",
    "cheap_rat = cheap['Rating']\n",
    "moderate = games[(games['Price Group'] == 'Moderate')]\n",
    "mod_rat = moderate['Rating']\n",
    "expensive = games[(games['Price Group'] == 'Expensive')]\n",
    "exp_rat = expensive['Rating']"
   ]
  },
  {
   "cell_type": "code",
   "execution_count": 100,
   "id": "9ad6ad6a",
   "metadata": {},
   "outputs": [
    {
     "name": "stdout",
     "output_type": "stream",
     "text": [
      "391.30201185669256\n",
      "4.1332692732489375e-251\n"
     ]
    }
   ],
   "source": [
    "#p-values\n",
    "#Does price have an effect in ratings? Variation in ratings vs variation in price\n",
    "#Ho: games grouped by price type have the same population mean(variations in price have no effect on the mean)\n",
    "from scipy.stats import f_oneway\n",
    "from statsmodels.stats.multicomp import pairwise_tukeyhsd #import the function for a pairwise Tukey HSD test\n",
    "\n",
    "#The p-value can also be obatined by using f_oneway test\n",
    "fval, pval = f_oneway(f2p_rat,cheap_rat,mod_rat,exp_rat)\n",
    "print(fval)\n",
    "print(pval)\n",
    "\n"
   ]
  },
  {
   "cell_type": "markdown",
   "id": "a5f1eeb5",
   "metadata": {},
   "source": [
    "Since the p-value is so low (much lower than the traditional cut-off of 0.05), the null hypothesis is rejected. As a result, it can be concluded that price does impact rating. The ANOVA alone cannot indicate which price group has different ratings.  But since the ANOVA results were statistically significant, it is appropriate to apply an ad hoc test,  such as Tukey's honestly significant difference (HSD) test that can determine which price groups have statistically significant ratings from each other."
   ]
  },
  {
   "cell_type": "code",
   "execution_count": 101,
   "id": "4bf26678",
   "metadata": {},
   "outputs": [
    {
     "name": "stdout",
     "output_type": "stream",
     "text": [
      "      Multiple Comparison of Means - Tukey HSD, FWER=0.05       \n",
      "================================================================\n",
      "   group1       group2    meandiff p-adj   lower   upper  reject\n",
      "----------------------------------------------------------------\n",
      "       Cheap    Expensive  10.1159    0.0  7.1865 13.0453   True\n",
      "       Cheap Free-to-Play   3.4102    0.0  2.6512  4.1692   True\n",
      "       Cheap     Moderate   8.1674    0.0  7.5333  8.8015   True\n",
      "   Expensive Free-to-Play  -6.7057    0.0 -9.7014 -3.7099   True\n",
      "   Expensive     Moderate  -1.9485 0.3303 -4.9151   1.018  False\n",
      "Free-to-Play     Moderate   4.7571    0.0  3.8654  5.6489   True\n",
      "----------------------------------------------------------------\n"
     ]
    }
   ],
   "source": [
    "tukeyHSD_results = pairwise_tukeyhsd(endog=games['Rating'], #perform the pairwise Tukey HSD test\n",
    "                          groups=games['Price Group'],\n",
    "                          alpha=0.05) # the p-value cut-off for statistical significance is defined as 0.05\n",
    "print(tukeyHSD_results)"
   ]
  },
  {
   "cell_type": "markdown",
   "id": "b7da5b2f",
   "metadata": {},
   "source": [
    "Here, the null hypothesis is that there is no difference in Ratings between the two price groups being compared. Based on the results, this null hypothesis can be rejected for Cheap/Expensive, Cheap/F2P, Cheap/Moderate, and Expensive/F2P and F2P/Moderate. \n",
    "\n",
    "With all these results, we can say that price has an impact on rating. Expensive and moderate dominate over the other two groups. But, between Expensive and moderate there are no statistical differences in rating(we do not reject the null hypothesis in the Tukey test for these two variables)."
   ]
  },
  {
   "cell_type": "markdown",
   "id": "ff42e757",
   "metadata": {},
   "source": [
    "## GENRE "
   ]
  },
  {
   "cell_type": "markdown",
   "id": "85ebd568",
   "metadata": {},
   "source": [
    "When looking at genres, it is important to know that a game can have different genres. In the cleaning process, I removed all the genres that were not gaming(For example Utility Apps or Education apps)."
   ]
  },
  {
   "cell_type": "code",
   "execution_count": 102,
   "id": "4222b3c5",
   "metadata": {},
   "outputs": [
    {
     "data": {
      "text/plain": [
       "Index(['Action', 'Adventure', 'Casual', 'Indie', 'Massively Multiplayer',\n",
       "       'RPG', 'Racing', 'Simulation', 'Strategy', 'Sports'],\n",
       "      dtype='object')"
      ]
     },
     "execution_count": 102,
     "metadata": {},
     "output_type": "execute_result"
    }
   ],
   "source": [
    "#select the genre columns\n",
    "genre_col = games.columns[-11:-1]\n",
    "genre_col"
   ]
  },
  {
   "cell_type": "markdown",
   "id": "b2dbdf77",
   "metadata": {},
   "source": [
    "### Games released per genre "
   ]
  },
  {
   "cell_type": "code",
   "execution_count": 103,
   "id": "b60a99e1",
   "metadata": {},
   "outputs": [
    {
     "data": {
      "text/plain": [
       "<AxesSubplot:>"
      ]
     },
     "execution_count": 103,
     "metadata": {},
     "output_type": "execute_result"
    },
    {
     "data": {
      "image/png": "[encoded data removed]",
      "text/plain": [
       "<Figure size 432x288 with 1 Axes>"
      ]
     },
     "metadata": {
      "needs_background": "light"
     },
     "output_type": "display_data"
    }
   ],
   "source": [
    "games[genre_col].sum().plot.bar()\n"
   ]
  },
  {
   "cell_type": "markdown",
   "id": "be3cf393",
   "metadata": {},
   "source": [
    "### Total downloads per genre "
   ]
  },
  {
   "cell_type": "code",
   "execution_count": 109,
   "id": "8bc318f2",
   "metadata": {},
   "outputs": [
    {
     "data": {
      "image/png": "[encoded data removed]",
      "text/plain": [
       "<Figure size 432x288 with 1 Axes>"
      ]
     },
     "metadata": {
      "needs_background": "light"
     },
     "output_type": "display_data"
    }
   ],
   "source": [
    "total_owners = games[genre_col].multiply(games['Owners'], axis ='index').sum()\n",
    "total_owners.sort_index(ascending = False).plot.bar()\n",
    "formatter = FuncFormatter(millions_formatter)\n",
    "plt.gca().yaxis.set_major_formatter(formatter)"
   ]
  },
  {
   "cell_type": "markdown",
   "id": "25e149a9",
   "metadata": {},
   "source": [
    "### Average downloads per genre"
   ]
  },
  {
   "cell_type": "code",
   "execution_count": 35,
   "id": "3c48efd4",
   "metadata": {},
   "outputs": [
    {
     "data": {
      "text/plain": [
       "<AxesSubplot:>"
      ]
     },
     "execution_count": 35,
     "metadata": {},
     "output_type": "execute_result"
    },
    {
     "data": {
      "image/png": "[encoded data removed]",
      "text/plain": [
       "<Figure size 432x288 with 1 Axes>"
      ]
     },
     "metadata": {
      "needs_background": "light"
     },
     "output_type": "display_data"
    }
   ],
   "source": [
    "total_owners_genre = games[genre_col].multiply(games['Owners'], axis ='index').sum()\n",
    "avg_owners_genre = total_owners_genre/ games[genre_col].sum()\n",
    "avg_owners_genre.sort_index(ascending = False).plot.bar()"
   ]
  },
  {
   "cell_type": "markdown",
   "id": "6b828c1a",
   "metadata": {},
   "source": [
    "- The most released genre are Indie games, followed by Action,  Adventure and casual games. RPGs, simulation and strategy are one step below. MMOs, Racing and sports are the least released games. \n",
    "\n",
    "- When looking at total downloads we see some changes. Action dominates steam with over 1400M downloads. Then we have Indie and Adventure with around 1000M downloads. Strategy, RPGs, Simulation, Casual and MMOs are around 400M-600M downloads range. Sports and Racing have the least total downloads with around 100M downloads.\n",
    "\n",
    "- When looking at average downloads, the context changes dramatically. MMOs are the type of games with more downloads with respect to total releases. Creating an MMO requires a lot of capital and time, which is why we see few releases, but at the same time, they tend to have a lot of hype and attract many players. Action and RPG still do well on average. Indie and Casual games are the most affected genres when looking at average ownership per total downloads. \n"
   ]
  },
  {
   "cell_type": "markdown",
   "id": "3267e16c",
   "metadata": {},
   "source": [
    "### Does genre have an effect in rating?"
   ]
  },
  {
   "cell_type": "markdown",
   "id": "fc58056b",
   "metadata": {},
   "source": [
    "Let's start by doing an Anova test to determine if the variation in rating is determined by the variation in genre.\n",
    "The null hypothesis is: #Ho: games grouped genre have the same population mean(variations in genre have no effect on the mean)."
   ]
  },
  {
   "cell_type": "code",
   "execution_count": 36,
   "id": "9e2f9789",
   "metadata": {},
   "outputs": [
    {
     "data": {
      "text/plain": [
       "F_onewayResult(statistic=33.231058974325244, pvalue=4.839902397231158e-59)"
      ]
     },
     "execution_count": 36,
     "metadata": {},
     "output_type": "execute_result"
    }
   ],
   "source": [
    "#Does genre has an effect on ratings?\n",
    "f = stats.f_oneway(*(games.loc[games[g] == 1, 'Rating'].values for g in genre_col))\n",
    "f"
   ]
  },
  {
   "cell_type": "markdown",
   "id": "4569cfbd",
   "metadata": {},
   "source": [
    "The p-value is smaller than the threshold(0.05), the null hypothesis is rejected. It can be concluded that genre does impact rating. Let's look at graphs and tables describing the relationship between genres and rating to see how big these differences are."
   ]
  },
  {
   "cell_type": "code",
   "execution_count": 37,
   "id": "84648829",
   "metadata": {},
   "outputs": [
    {
     "data": {
      "image/png": "[encoded data removed]",
      "text/plain": [
       "<Figure size 792x432 with 1 Axes>"
      ]
     },
     "metadata": {
      "needs_background": "light"
     },
     "output_type": "display_data"
    }
   ],
   "source": [
    "g_df = pd.DataFrame()\n",
    "\n",
    "# create new dataframe with rating and genre, as games can belong to multiple genres\n",
    "for col in genre_col:\n",
    "    ratings = pd.DataFrame(games.loc[games[col] == 1, 'Rating'].values, columns=['Rating'])\n",
    "    ratings['genre'] = col\n",
    "    g_df = pd.concat([g_df, ratings], axis=0)\n",
    "\n",
    "fig, ax = plt.subplots(figsize=(11,6))\n",
    "sns.boxplot(x='genre', y='Rating', data=g_df)\n",
    "ax.axhline(g_df.Rating.median(), color='black', lw=3, alpha=.5)\n",
    "ax.text(9.6, g_df.Rating.median()-1, 'median', color='black', alpha=.8)\n",
    "\n",
    "ax.tick_params(axis='x', labelsize=8)\n",
    "ax.set_title(\"Rating distribution by genre\");\n",
    "plt.show()"
   ]
  },
  {
   "cell_type": "code",
   "execution_count": 38,
   "id": "9a9e3839",
   "metadata": {},
   "outputs": [
    {
     "name": "stdout",
     "output_type": "stream",
     "text": [
      "Mean rating for Action: 58.642908758324936\n",
      "Mean rating for Adventure: 59.70623306811145\n",
      "Mean rating for Casual: 57.91721114394197\n",
      "Mean rating for Indie: 59.34960374118582\n",
      "Mean rating for Massively Multiplayer: 54.725680433552014\n",
      "Mean rating for RPG: 59.6045885129956\n",
      "Mean rating for Racing: 56.8622380637894\n",
      "Mean rating for Simulation: 56.522392299236124\n",
      "Mean rating for Strategy: 58.598146729562934\n",
      "Mean rating for Sports: 56.50708975593634\n"
     ]
    }
   ],
   "source": [
    "# Dictionary to store mean ratings for each genre column\n",
    "mean_ratings = {}\n",
    "\n",
    "# Iterate through each genre column and calculate mean rating\n",
    "for col in genre_col:\n",
    "    mean_rating = games[games[col] == 1]['Rating'].mean()\n",
    "    mean_ratings[col] = mean_rating\n",
    "\n",
    "# Print the mean ratings for each genre column\n",
    "for genre, mean_rating in mean_ratings.items():\n",
    "    print(f\"Mean rating for {genre}: {mean_rating}\")"
   ]
  },
  {
   "cell_type": "markdown",
   "id": "ee5e2c33",
   "metadata": {},
   "source": [
    "Adventure and RPGs are the genres with the highest rating on average. Action, Indie and Strategy are also above the median of all the games rating. Racing, Casual, Simulation and sports have a slightly lower rating than most. MMOs are the worst rated genre. It looks like the expectations of players in the game can have a huge impact on how they rate the game. As we have said before, MMOs are usually games with huge budgets that attract a lot of attention from players. Despite this, the genre has not managed to meet the expectations of the players.\n",
    "\n",
    "Let's move on to have a look at what is the price distribution of each genre. "
   ]
  },
  {
   "cell_type": "code",
   "execution_count": 39,
   "id": "0ba203cd",
   "metadata": {},
   "outputs": [
    {
     "data": {
      "image/png": "[encoded data removed]",
      "text/plain": [
       "<Figure size 432x288 with 1 Axes>"
      ]
     },
     "metadata": {
      "needs_background": "light"
     },
     "output_type": "display_data"
    }
   ],
   "source": [
    "#Price distribution per genre\n",
    "g_df = pd.DataFrame()\n",
    "\n",
    "for col in genre_col:\n",
    "    temp_df = games[games[col] == 1].copy()\n",
    "    temp_df['genre'] = col\n",
    "    g_df = pd.concat([g_df, temp_df], axis=0)\n",
    "\n",
    "\n",
    "recent_df = g_df[g_df['Release Year'] >= 2018].copy()\n",
    "ax = sns.stripplot(x='Price', y='genre', data=recent_df, jitter=True, alpha=.5, linewidth=1);"
   ]
  },
  {
   "cell_type": "code",
   "execution_count": 40,
   "id": "1e1b1ef1",
   "metadata": {},
   "outputs": [
    {
     "data": {
      "text/html": [
       "<div>\n",
       "<style scoped>\n",
       "    .dataframe tbody tr th:only-of-type {\n",
       "        vertical-align: middle;\n",
       "    }\n",
       "\n",
       "    .dataframe tbody tr th {\n",
       "        vertical-align: top;\n",
       "    }\n",
       "\n",
       "    .dataframe thead th {\n",
       "        text-align: right;\n",
       "    }\n",
       "</style>\n",
       "<table border=\"1\" class=\"dataframe\">\n",
       "  <thead>\n",
       "    <tr style=\"text-align: right;\">\n",
       "      <th></th>\n",
       "      <th>Price Group</th>\n",
       "      <th>Action_prop</th>\n",
       "      <th>Adventure_prop</th>\n",
       "      <th>Casual_prop</th>\n",
       "      <th>Indie_prop</th>\n",
       "      <th>Massively Multiplayer_prop</th>\n",
       "      <th>RPG_prop</th>\n",
       "      <th>Racing_prop</th>\n",
       "      <th>Simulation_prop</th>\n",
       "      <th>Strategy_prop</th>\n",
       "      <th>Sports_prop</th>\n",
       "    </tr>\n",
       "  </thead>\n",
       "  <tbody>\n",
       "    <tr>\n",
       "      <th>0</th>\n",
       "      <td>Free-to-Play</td>\n",
       "      <td>12.527716</td>\n",
       "      <td>10.885726</td>\n",
       "      <td>11.802323</td>\n",
       "      <td>11.692334</td>\n",
       "      <td>53.475513</td>\n",
       "      <td>14.322034</td>\n",
       "      <td>10.423634</td>\n",
       "      <td>12.108472</td>\n",
       "      <td>12.941677</td>\n",
       "      <td>13.687392</td>\n",
       "    </tr>\n",
       "    <tr>\n",
       "      <th>1</th>\n",
       "      <td>Cheap</td>\n",
       "      <td>65.916321</td>\n",
       "      <td>66.434792</td>\n",
       "      <td>76.630685</td>\n",
       "      <td>70.548957</td>\n",
       "      <td>29.620853</td>\n",
       "      <td>57.469734</td>\n",
       "      <td>67.335563</td>\n",
       "      <td>60.353164</td>\n",
       "      <td>62.547893</td>\n",
       "      <td>61.096718</td>\n",
       "    </tr>\n",
       "    <tr>\n",
       "      <th>2</th>\n",
       "      <td>Moderate</td>\n",
       "      <td>20.837752</td>\n",
       "      <td>22.153781</td>\n",
       "      <td>11.367473</td>\n",
       "      <td>17.628005</td>\n",
       "      <td>16.271722</td>\n",
       "      <td>27.082324</td>\n",
       "      <td>21.070234</td>\n",
       "      <td>26.697498</td>\n",
       "      <td>23.861218</td>\n",
       "      <td>23.920553</td>\n",
       "    </tr>\n",
       "    <tr>\n",
       "      <th>3</th>\n",
       "      <td>Expensive</td>\n",
       "      <td>0.718211</td>\n",
       "      <td>0.525701</td>\n",
       "      <td>0.199519</td>\n",
       "      <td>0.130704</td>\n",
       "      <td>0.631912</td>\n",
       "      <td>1.125908</td>\n",
       "      <td>1.170569</td>\n",
       "      <td>0.840866</td>\n",
       "      <td>0.649212</td>\n",
       "      <td>1.295337</td>\n",
       "    </tr>\n",
       "  </tbody>\n",
       "</table>\n",
       "</div>"
      ],
      "text/plain": [
       "    Price Group  Action_prop  Adventure_prop  Casual_prop  Indie_prop  \\\n",
       "0  Free-to-Play    12.527716       10.885726    11.802323   11.692334   \n",
       "1         Cheap    65.916321       66.434792    76.630685   70.548957   \n",
       "2      Moderate    20.837752       22.153781    11.367473   17.628005   \n",
       "3     Expensive     0.718211        0.525701     0.199519    0.130704   \n",
       "\n",
       "   Massively Multiplayer_prop   RPG_prop  Racing_prop  Simulation_prop  \\\n",
       "0                   53.475513  14.322034    10.423634        12.108472   \n",
       "1                   29.620853  57.469734    67.335563        60.353164   \n",
       "2                   16.271722  27.082324    21.070234        26.697498   \n",
       "3                    0.631912   1.125908     1.170569         0.840866   \n",
       "\n",
       "   Strategy_prop  Sports_prop  \n",
       "0      12.941677    13.687392  \n",
       "1      62.547893    61.096718  \n",
       "2      23.861218    23.920553  \n",
       "3       0.649212     1.295337  "
      ]
     },
     "execution_count": 40,
     "metadata": {},
     "output_type": "execute_result"
    }
   ],
   "source": [
    "#Downloads dsitribution per price\n",
    "genre_price = pd.DataFrame({'Price Group': games['Price Group']})\n",
    "for genre in genre_col:\n",
    "    counts = games.groupby(['Price Group'])[genre].sum().reset_index()\n",
    "    counts.columns = ['Price Group',genre]\n",
    "    genre_price = pd.merge(genre_price, counts, on='Price Group')\n",
    "\n",
    "genre_price = genre_price.groupby('Price Group').first()\n",
    "\n",
    "\n",
    "genre_totals  = genre_price.iloc[:, 0:].sum()\n",
    "\n",
    "for col in genre_price.columns[0:]:\n",
    "    genre_price[col+'_prop'] = (genre_price[col] / genre_totals.loc[col])*100\n",
    "    \n",
    "    \n",
    "genre_price = genre_price.drop(genre_price.columns[[0,1,2,3,4,5,6,7,8,9]], axis=1)\n",
    "\n",
    "\n",
    "#order the columns\n",
    "genre_price= genre_price.reindex(['Free-to-Play', 'Cheap', 'Moderate', 'Expensive']).reset_index()\n",
    "genre_price"
   ]
  },
  {
   "cell_type": "markdown",
   "id": "47fac656",
   "metadata": {},
   "source": [
    "By looking at both the table and the graph, we can say that for all the genres, the vast majority of games are allocated under 10 dollars price. Cheap games dominate all genres except for MMOs. The price of the dataset reflects the current price when extracted from the Steam API and not the current price. Many MMOs follow a subscription model. The games are free and then players pay monthly, this monthly payment is not recorded in the dataset. For this reason, the 55 percent of free-to-play games in MMOs is not a reflection of reality. Then, it is interesting to see that some genres like RPGs, Racing or Sports have more games over 50$(expensive games).\n",
    "\n",
    "Let's make the same table we have done with prices, but with downloads ranges to see how each genre has done in downloads."
   ]
  },
  {
   "cell_type": "code",
   "execution_count": 41,
   "id": "a84b6803",
   "metadata": {},
   "outputs": [],
   "source": [
    "#Downloads dsitribution per genre\n",
    "genre_counts = pd.DataFrame({'Owners': games['Owners']})\n",
    "for genre in genre_col:\n",
    "    counts = games.groupby(['Owners'])[genre].sum().reset_index()\n",
    "    counts.columns = ['Owners',genre]\n",
    "    genre_counts = pd.merge(genre_counts, counts, on='Owners')\n",
    "\n",
    "genre_counts = genre_counts.groupby('Owners').first().reset_index()\n",
    "\n",
    "#add percentage columns\n",
    "genre_totals  = genre_counts.iloc[:, 1:].sum()\n",
    "\n",
    "for col in genre_counts.columns[1:]:\n",
    "    genre_counts[col+'_prop'] = (genre_counts[col] / genre_totals.loc[col])*100"
   ]
  },
  {
   "cell_type": "code",
   "execution_count": 42,
   "id": "1453c245",
   "metadata": {},
   "outputs": [
    {
     "data": {
      "text/html": [
       "<div>\n",
       "<style scoped>\n",
       "    .dataframe tbody tr th:only-of-type {\n",
       "        vertical-align: middle;\n",
       "    }\n",
       "\n",
       "    .dataframe tbody tr th {\n",
       "        vertical-align: top;\n",
       "    }\n",
       "\n",
       "    .dataframe thead th {\n",
       "        text-align: right;\n",
       "    }\n",
       "</style>\n",
       "<table border=\"1\" class=\"dataframe\">\n",
       "  <thead>\n",
       "    <tr style=\"text-align: right;\">\n",
       "      <th></th>\n",
       "      <th>Owners</th>\n",
       "      <th>Action</th>\n",
       "      <th>Adventure</th>\n",
       "      <th>Casual</th>\n",
       "      <th>Indie</th>\n",
       "      <th>Massively Multiplayer</th>\n",
       "      <th>RPG</th>\n",
       "      <th>Racing</th>\n",
       "      <th>Simulation</th>\n",
       "      <th>Strategy</th>\n",
       "      <th>...</th>\n",
       "      <th>Action_prop</th>\n",
       "      <th>Adventure_prop</th>\n",
       "      <th>Casual_prop</th>\n",
       "      <th>Indie_prop</th>\n",
       "      <th>Massively Multiplayer_prop</th>\n",
       "      <th>RPG_prop</th>\n",
       "      <th>Racing_prop</th>\n",
       "      <th>Simulation_prop</th>\n",
       "      <th>Strategy_prop</th>\n",
       "      <th>Sports_prop</th>\n",
       "    </tr>\n",
       "  </thead>\n",
       "  <tbody>\n",
       "    <tr>\n",
       "      <th>0</th>\n",
       "      <td>10000</td>\n",
       "      <td>14104</td>\n",
       "      <td>12712</td>\n",
       "      <td>14681</td>\n",
       "      <td>24938</td>\n",
       "      <td>553</td>\n",
       "      <td>4915</td>\n",
       "      <td>1237</td>\n",
       "      <td>6472</td>\n",
       "      <td>5903</td>\n",
       "      <td>...</td>\n",
       "      <td>67.984190</td>\n",
       "      <td>67.502124</td>\n",
       "      <td>75.106154</td>\n",
       "      <td>70.858669</td>\n",
       "      <td>43.680885</td>\n",
       "      <td>59.503632</td>\n",
       "      <td>68.952062</td>\n",
       "      <td>68.026067</td>\n",
       "      <td>62.824606</td>\n",
       "      <td>73.100173</td>\n",
       "    </tr>\n",
       "    <tr>\n",
       "      <th>1</th>\n",
       "      <td>35000</td>\n",
       "      <td>2586</td>\n",
       "      <td>2632</td>\n",
       "      <td>2404</td>\n",
       "      <td>4621</td>\n",
       "      <td>173</td>\n",
       "      <td>1284</td>\n",
       "      <td>217</td>\n",
       "      <td>1155</td>\n",
       "      <td>1338</td>\n",
       "      <td>...</td>\n",
       "      <td>12.465054</td>\n",
       "      <td>13.976211</td>\n",
       "      <td>12.298562</td>\n",
       "      <td>13.130079</td>\n",
       "      <td>13.665087</td>\n",
       "      <td>15.544794</td>\n",
       "      <td>12.095875</td>\n",
       "      <td>12.140004</td>\n",
       "      <td>14.240102</td>\n",
       "      <td>10.967185</td>\n",
       "    </tr>\n",
       "    <tr>\n",
       "      <th>2</th>\n",
       "      <td>75000</td>\n",
       "      <td>1317</td>\n",
       "      <td>1275</td>\n",
       "      <td>1075</td>\n",
       "      <td>2191</td>\n",
       "      <td>125</td>\n",
       "      <td>720</td>\n",
       "      <td>117</td>\n",
       "      <td>671</td>\n",
       "      <td>720</td>\n",
       "      <td>...</td>\n",
       "      <td>6.348212</td>\n",
       "      <td>6.770391</td>\n",
       "      <td>5.499565</td>\n",
       "      <td>6.225493</td>\n",
       "      <td>9.873618</td>\n",
       "      <td>8.716707</td>\n",
       "      <td>6.521739</td>\n",
       "      <td>7.052764</td>\n",
       "      <td>7.662835</td>\n",
       "      <td>5.829016</td>\n",
       "    </tr>\n",
       "    <tr>\n",
       "      <th>3</th>\n",
       "      <td>150000</td>\n",
       "      <td>896</td>\n",
       "      <td>883</td>\n",
       "      <td>643</td>\n",
       "      <td>1481</td>\n",
       "      <td>119</td>\n",
       "      <td>491</td>\n",
       "      <td>89</td>\n",
       "      <td>452</td>\n",
       "      <td>558</td>\n",
       "      <td>...</td>\n",
       "      <td>4.318905</td>\n",
       "      <td>4.688828</td>\n",
       "      <td>3.289507</td>\n",
       "      <td>4.208104</td>\n",
       "      <td>9.399684</td>\n",
       "      <td>5.944310</td>\n",
       "      <td>4.960981</td>\n",
       "      <td>4.750893</td>\n",
       "      <td>5.938697</td>\n",
       "      <td>3.497409</td>\n",
       "    </tr>\n",
       "    <tr>\n",
       "      <th>4</th>\n",
       "      <td>350000</td>\n",
       "      <td>883</td>\n",
       "      <td>727</td>\n",
       "      <td>481</td>\n",
       "      <td>1192</td>\n",
       "      <td>110</td>\n",
       "      <td>422</td>\n",
       "      <td>84</td>\n",
       "      <td>412</td>\n",
       "      <td>498</td>\n",
       "      <td>...</td>\n",
       "      <td>4.256242</td>\n",
       "      <td>3.860450</td>\n",
       "      <td>2.460736</td>\n",
       "      <td>3.386941</td>\n",
       "      <td>8.688784</td>\n",
       "      <td>5.108959</td>\n",
       "      <td>4.682274</td>\n",
       "      <td>4.330460</td>\n",
       "      <td>5.300128</td>\n",
       "      <td>3.626943</td>\n",
       "    </tr>\n",
       "    <tr>\n",
       "      <th>5</th>\n",
       "      <td>750000</td>\n",
       "      <td>410</td>\n",
       "      <td>290</td>\n",
       "      <td>152</td>\n",
       "      <td>439</td>\n",
       "      <td>79</td>\n",
       "      <td>218</td>\n",
       "      <td>25</td>\n",
       "      <td>175</td>\n",
       "      <td>193</td>\n",
       "      <td>...</td>\n",
       "      <td>1.976285</td>\n",
       "      <td>1.539932</td>\n",
       "      <td>0.777613</td>\n",
       "      <td>1.247372</td>\n",
       "      <td>6.240126</td>\n",
       "      <td>2.639225</td>\n",
       "      <td>1.393534</td>\n",
       "      <td>1.839395</td>\n",
       "      <td>2.054066</td>\n",
       "      <td>1.208981</td>\n",
       "    </tr>\n",
       "    <tr>\n",
       "      <th>6</th>\n",
       "      <td>1500000</td>\n",
       "      <td>263</td>\n",
       "      <td>166</td>\n",
       "      <td>61</td>\n",
       "      <td>181</td>\n",
       "      <td>44</td>\n",
       "      <td>109</td>\n",
       "      <td>14</td>\n",
       "      <td>97</td>\n",
       "      <td>105</td>\n",
       "      <td>...</td>\n",
       "      <td>1.267714</td>\n",
       "      <td>0.881478</td>\n",
       "      <td>0.312068</td>\n",
       "      <td>0.514292</td>\n",
       "      <td>3.475513</td>\n",
       "      <td>1.319613</td>\n",
       "      <td>0.780379</td>\n",
       "      <td>1.019550</td>\n",
       "      <td>1.117497</td>\n",
       "      <td>0.863558</td>\n",
       "    </tr>\n",
       "    <tr>\n",
       "      <th>7</th>\n",
       "      <td>3500000</td>\n",
       "      <td>199</td>\n",
       "      <td>100</td>\n",
       "      <td>31</td>\n",
       "      <td>107</td>\n",
       "      <td>36</td>\n",
       "      <td>69</td>\n",
       "      <td>10</td>\n",
       "      <td>57</td>\n",
       "      <td>62</td>\n",
       "      <td>...</td>\n",
       "      <td>0.959221</td>\n",
       "      <td>0.531011</td>\n",
       "      <td>0.158592</td>\n",
       "      <td>0.304029</td>\n",
       "      <td>2.843602</td>\n",
       "      <td>0.835351</td>\n",
       "      <td>0.557414</td>\n",
       "      <td>0.599117</td>\n",
       "      <td>0.659855</td>\n",
       "      <td>0.604491</td>\n",
       "    </tr>\n",
       "    <tr>\n",
       "      <th>8</th>\n",
       "      <td>7500000</td>\n",
       "      <td>46</td>\n",
       "      <td>26</td>\n",
       "      <td>12</td>\n",
       "      <td>24</td>\n",
       "      <td>11</td>\n",
       "      <td>15</td>\n",
       "      <td>0</td>\n",
       "      <td>11</td>\n",
       "      <td>15</td>\n",
       "      <td>...</td>\n",
       "      <td>0.221729</td>\n",
       "      <td>0.138063</td>\n",
       "      <td>0.061390</td>\n",
       "      <td>0.068193</td>\n",
       "      <td>0.868878</td>\n",
       "      <td>0.181598</td>\n",
       "      <td>0.000000</td>\n",
       "      <td>0.115619</td>\n",
       "      <td>0.159642</td>\n",
       "      <td>0.172712</td>\n",
       "    </tr>\n",
       "    <tr>\n",
       "      <th>9</th>\n",
       "      <td>15000000</td>\n",
       "      <td>24</td>\n",
       "      <td>11</td>\n",
       "      <td>4</td>\n",
       "      <td>13</td>\n",
       "      <td>11</td>\n",
       "      <td>10</td>\n",
       "      <td>1</td>\n",
       "      <td>11</td>\n",
       "      <td>3</td>\n",
       "      <td>...</td>\n",
       "      <td>0.115685</td>\n",
       "      <td>0.058411</td>\n",
       "      <td>0.020463</td>\n",
       "      <td>0.036938</td>\n",
       "      <td>0.868878</td>\n",
       "      <td>0.121065</td>\n",
       "      <td>0.055741</td>\n",
       "      <td>0.115619</td>\n",
       "      <td>0.031928</td>\n",
       "      <td>0.129534</td>\n",
       "    </tr>\n",
       "    <tr>\n",
       "      <th>10</th>\n",
       "      <td>35000000</td>\n",
       "      <td>14</td>\n",
       "      <td>8</td>\n",
       "      <td>3</td>\n",
       "      <td>7</td>\n",
       "      <td>3</td>\n",
       "      <td>6</td>\n",
       "      <td>0</td>\n",
       "      <td>1</td>\n",
       "      <td>0</td>\n",
       "      <td>...</td>\n",
       "      <td>0.067483</td>\n",
       "      <td>0.042481</td>\n",
       "      <td>0.015348</td>\n",
       "      <td>0.019890</td>\n",
       "      <td>0.236967</td>\n",
       "      <td>0.072639</td>\n",
       "      <td>0.000000</td>\n",
       "      <td>0.010511</td>\n",
       "      <td>0.000000</td>\n",
       "      <td>0.000000</td>\n",
       "    </tr>\n",
       "    <tr>\n",
       "      <th>11</th>\n",
       "      <td>75000000</td>\n",
       "      <td>3</td>\n",
       "      <td>2</td>\n",
       "      <td>0</td>\n",
       "      <td>0</td>\n",
       "      <td>2</td>\n",
       "      <td>1</td>\n",
       "      <td>0</td>\n",
       "      <td>0</td>\n",
       "      <td>0</td>\n",
       "      <td>...</td>\n",
       "      <td>0.014461</td>\n",
       "      <td>0.010620</td>\n",
       "      <td>0.000000</td>\n",
       "      <td>0.000000</td>\n",
       "      <td>0.157978</td>\n",
       "      <td>0.012107</td>\n",
       "      <td>0.000000</td>\n",
       "      <td>0.000000</td>\n",
       "      <td>0.000000</td>\n",
       "      <td>0.000000</td>\n",
       "    </tr>\n",
       "    <tr>\n",
       "      <th>12</th>\n",
       "      <td>150000000</td>\n",
       "      <td>1</td>\n",
       "      <td>0</td>\n",
       "      <td>0</td>\n",
       "      <td>0</td>\n",
       "      <td>0</td>\n",
       "      <td>0</td>\n",
       "      <td>0</td>\n",
       "      <td>0</td>\n",
       "      <td>1</td>\n",
       "      <td>...</td>\n",
       "      <td>0.004820</td>\n",
       "      <td>0.000000</td>\n",
       "      <td>0.000000</td>\n",
       "      <td>0.000000</td>\n",
       "      <td>0.000000</td>\n",
       "      <td>0.000000</td>\n",
       "      <td>0.000000</td>\n",
       "      <td>0.000000</td>\n",
       "      <td>0.010643</td>\n",
       "      <td>0.000000</td>\n",
       "    </tr>\n",
       "  </tbody>\n",
       "</table>\n",
       "<p>13 rows × 21 columns</p>\n",
       "</div>"
      ],
      "text/plain": [
       "       Owners  Action  Adventure  Casual  Indie  Massively Multiplayer   RPG  \\\n",
       "0       10000   14104      12712   14681  24938                    553  4915   \n",
       "1       35000    2586       2632    2404   4621                    173  1284   \n",
       "2       75000    1317       1275    1075   2191                    125   720   \n",
       "3      150000     896        883     643   1481                    119   491   \n",
       "4      350000     883        727     481   1192                    110   422   \n",
       "5      750000     410        290     152    439                     79   218   \n",
       "6     1500000     263        166      61    181                     44   109   \n",
       "7     3500000     199        100      31    107                     36    69   \n",
       "8     7500000      46         26      12     24                     11    15   \n",
       "9    15000000      24         11       4     13                     11    10   \n",
       "10   35000000      14          8       3      7                      3     6   \n",
       "11   75000000       3          2       0      0                      2     1   \n",
       "12  150000000       1          0       0      0                      0     0   \n",
       "\n",
       "    Racing  Simulation  Strategy  ...  Action_prop  Adventure_prop  \\\n",
       "0     1237        6472      5903  ...    67.984190       67.502124   \n",
       "1      217        1155      1338  ...    12.465054       13.976211   \n",
       "2      117         671       720  ...     6.348212        6.770391   \n",
       "3       89         452       558  ...     4.318905        4.688828   \n",
       "4       84         412       498  ...     4.256242        3.860450   \n",
       "5       25         175       193  ...     1.976285        1.539932   \n",
       "6       14          97       105  ...     1.267714        0.881478   \n",
       "7       10          57        62  ...     0.959221        0.531011   \n",
       "8        0          11        15  ...     0.221729        0.138063   \n",
       "9        1          11         3  ...     0.115685        0.058411   \n",
       "10       0           1         0  ...     0.067483        0.042481   \n",
       "11       0           0         0  ...     0.014461        0.010620   \n",
       "12       0           0         1  ...     0.004820        0.000000   \n",
       "\n",
       "    Casual_prop  Indie_prop  Massively Multiplayer_prop   RPG_prop  \\\n",
       "0     75.106154   70.858669                   43.680885  59.503632   \n",
       "1     12.298562   13.130079                   13.665087  15.544794   \n",
       "2      5.499565    6.225493                    9.873618   8.716707   \n",
       "3      3.289507    4.208104                    9.399684   5.944310   \n",
       "4      2.460736    3.386941                    8.688784   5.108959   \n",
       "5      0.777613    1.247372                    6.240126   2.639225   \n",
       "6      0.312068    0.514292                    3.475513   1.319613   \n",
       "7      0.158592    0.304029                    2.843602   0.835351   \n",
       "8      0.061390    0.068193                    0.868878   0.181598   \n",
       "9      0.020463    0.036938                    0.868878   0.121065   \n",
       "10     0.015348    0.019890                    0.236967   0.072639   \n",
       "11     0.000000    0.000000                    0.157978   0.012107   \n",
       "12     0.000000    0.000000                    0.000000   0.000000   \n",
       "\n",
       "    Racing_prop  Simulation_prop  Strategy_prop  Sports_prop  \n",
       "0     68.952062        68.026067      62.824606    73.100173  \n",
       "1     12.095875        12.140004      14.240102    10.967185  \n",
       "2      6.521739         7.052764       7.662835     5.829016  \n",
       "3      4.960981         4.750893       5.938697     3.497409  \n",
       "4      4.682274         4.330460       5.300128     3.626943  \n",
       "5      1.393534         1.839395       2.054066     1.208981  \n",
       "6      0.780379         1.019550       1.117497     0.863558  \n",
       "7      0.557414         0.599117       0.659855     0.604491  \n",
       "8      0.000000         0.115619       0.159642     0.172712  \n",
       "9      0.055741         0.115619       0.031928     0.129534  \n",
       "10     0.000000         0.010511       0.000000     0.000000  \n",
       "11     0.000000         0.000000       0.000000     0.000000  \n",
       "12     0.000000         0.000000       0.010643     0.000000  \n",
       "\n",
       "[13 rows x 21 columns]"
      ]
     },
     "execution_count": 42,
     "metadata": {},
     "output_type": "execute_result"
    }
   ],
   "source": [
    "genre_counts"
   ]
  },
  {
   "cell_type": "code",
   "execution_count": 43,
   "id": "84036911",
   "metadata": {},
   "outputs": [],
   "source": [
    "#The table is really large, we just want the percentages to understand relatively how well each genre has done in downloads.\n",
    "#Let's remove the absolute columns:\n",
    "genre_counts = genre_counts.drop(genre_counts.columns[[1,2,3,4,5,6,7,8,9,10]], axis=1)"
   ]
  },
  {
   "cell_type": "code",
   "execution_count": 44,
   "id": "bc5f1e2a",
   "metadata": {},
   "outputs": [
    {
     "data": {
      "text/html": [
       "<div>\n",
       "<style scoped>\n",
       "    .dataframe tbody tr th:only-of-type {\n",
       "        vertical-align: middle;\n",
       "    }\n",
       "\n",
       "    .dataframe tbody tr th {\n",
       "        vertical-align: top;\n",
       "    }\n",
       "\n",
       "    .dataframe thead th {\n",
       "        text-align: right;\n",
       "    }\n",
       "</style>\n",
       "<table border=\"1\" class=\"dataframe\">\n",
       "  <thead>\n",
       "    <tr style=\"text-align: right;\">\n",
       "      <th></th>\n",
       "      <th>Owners</th>\n",
       "      <th>Action_prop</th>\n",
       "      <th>Adventure_prop</th>\n",
       "      <th>Casual_prop</th>\n",
       "      <th>Indie_prop</th>\n",
       "      <th>Massively Multiplayer_prop</th>\n",
       "      <th>RPG_prop</th>\n",
       "      <th>Racing_prop</th>\n",
       "      <th>Simulation_prop</th>\n",
       "      <th>Strategy_prop</th>\n",
       "      <th>Sports_prop</th>\n",
       "    </tr>\n",
       "  </thead>\n",
       "  <tbody>\n",
       "    <tr>\n",
       "      <th>0</th>\n",
       "      <td>10000</td>\n",
       "      <td>67.984190</td>\n",
       "      <td>67.502124</td>\n",
       "      <td>75.106154</td>\n",
       "      <td>70.858669</td>\n",
       "      <td>43.680885</td>\n",
       "      <td>59.503632</td>\n",
       "      <td>68.952062</td>\n",
       "      <td>68.026067</td>\n",
       "      <td>62.824606</td>\n",
       "      <td>73.100173</td>\n",
       "    </tr>\n",
       "    <tr>\n",
       "      <th>1</th>\n",
       "      <td>35000</td>\n",
       "      <td>12.465054</td>\n",
       "      <td>13.976211</td>\n",
       "      <td>12.298562</td>\n",
       "      <td>13.130079</td>\n",
       "      <td>13.665087</td>\n",
       "      <td>15.544794</td>\n",
       "      <td>12.095875</td>\n",
       "      <td>12.140004</td>\n",
       "      <td>14.240102</td>\n",
       "      <td>10.967185</td>\n",
       "    </tr>\n",
       "    <tr>\n",
       "      <th>2</th>\n",
       "      <td>75000</td>\n",
       "      <td>6.348212</td>\n",
       "      <td>6.770391</td>\n",
       "      <td>5.499565</td>\n",
       "      <td>6.225493</td>\n",
       "      <td>9.873618</td>\n",
       "      <td>8.716707</td>\n",
       "      <td>6.521739</td>\n",
       "      <td>7.052764</td>\n",
       "      <td>7.662835</td>\n",
       "      <td>5.829016</td>\n",
       "    </tr>\n",
       "    <tr>\n",
       "      <th>3</th>\n",
       "      <td>150000</td>\n",
       "      <td>4.318905</td>\n",
       "      <td>4.688828</td>\n",
       "      <td>3.289507</td>\n",
       "      <td>4.208104</td>\n",
       "      <td>9.399684</td>\n",
       "      <td>5.944310</td>\n",
       "      <td>4.960981</td>\n",
       "      <td>4.750893</td>\n",
       "      <td>5.938697</td>\n",
       "      <td>3.497409</td>\n",
       "    </tr>\n",
       "    <tr>\n",
       "      <th>4</th>\n",
       "      <td>350000</td>\n",
       "      <td>4.256242</td>\n",
       "      <td>3.860450</td>\n",
       "      <td>2.460736</td>\n",
       "      <td>3.386941</td>\n",
       "      <td>8.688784</td>\n",
       "      <td>5.108959</td>\n",
       "      <td>4.682274</td>\n",
       "      <td>4.330460</td>\n",
       "      <td>5.300128</td>\n",
       "      <td>3.626943</td>\n",
       "    </tr>\n",
       "    <tr>\n",
       "      <th>5</th>\n",
       "      <td>750000</td>\n",
       "      <td>1.976285</td>\n",
       "      <td>1.539932</td>\n",
       "      <td>0.777613</td>\n",
       "      <td>1.247372</td>\n",
       "      <td>6.240126</td>\n",
       "      <td>2.639225</td>\n",
       "      <td>1.393534</td>\n",
       "      <td>1.839395</td>\n",
       "      <td>2.054066</td>\n",
       "      <td>1.208981</td>\n",
       "    </tr>\n",
       "    <tr>\n",
       "      <th>6</th>\n",
       "      <td>1500000</td>\n",
       "      <td>1.267714</td>\n",
       "      <td>0.881478</td>\n",
       "      <td>0.312068</td>\n",
       "      <td>0.514292</td>\n",
       "      <td>3.475513</td>\n",
       "      <td>1.319613</td>\n",
       "      <td>0.780379</td>\n",
       "      <td>1.019550</td>\n",
       "      <td>1.117497</td>\n",
       "      <td>0.863558</td>\n",
       "    </tr>\n",
       "    <tr>\n",
       "      <th>7</th>\n",
       "      <td>3500000</td>\n",
       "      <td>0.959221</td>\n",
       "      <td>0.531011</td>\n",
       "      <td>0.158592</td>\n",
       "      <td>0.304029</td>\n",
       "      <td>2.843602</td>\n",
       "      <td>0.835351</td>\n",
       "      <td>0.557414</td>\n",
       "      <td>0.599117</td>\n",
       "      <td>0.659855</td>\n",
       "      <td>0.604491</td>\n",
       "    </tr>\n",
       "    <tr>\n",
       "      <th>8</th>\n",
       "      <td>7500000</td>\n",
       "      <td>0.221729</td>\n",
       "      <td>0.138063</td>\n",
       "      <td>0.061390</td>\n",
       "      <td>0.068193</td>\n",
       "      <td>0.868878</td>\n",
       "      <td>0.181598</td>\n",
       "      <td>0.000000</td>\n",
       "      <td>0.115619</td>\n",
       "      <td>0.159642</td>\n",
       "      <td>0.172712</td>\n",
       "    </tr>\n",
       "    <tr>\n",
       "      <th>9</th>\n",
       "      <td>15000000</td>\n",
       "      <td>0.115685</td>\n",
       "      <td>0.058411</td>\n",
       "      <td>0.020463</td>\n",
       "      <td>0.036938</td>\n",
       "      <td>0.868878</td>\n",
       "      <td>0.121065</td>\n",
       "      <td>0.055741</td>\n",
       "      <td>0.115619</td>\n",
       "      <td>0.031928</td>\n",
       "      <td>0.129534</td>\n",
       "    </tr>\n",
       "    <tr>\n",
       "      <th>10</th>\n",
       "      <td>35000000</td>\n",
       "      <td>0.067483</td>\n",
       "      <td>0.042481</td>\n",
       "      <td>0.015348</td>\n",
       "      <td>0.019890</td>\n",
       "      <td>0.236967</td>\n",
       "      <td>0.072639</td>\n",
       "      <td>0.000000</td>\n",
       "      <td>0.010511</td>\n",
       "      <td>0.000000</td>\n",
       "      <td>0.000000</td>\n",
       "    </tr>\n",
       "    <tr>\n",
       "      <th>11</th>\n",
       "      <td>75000000</td>\n",
       "      <td>0.014461</td>\n",
       "      <td>0.010620</td>\n",
       "      <td>0.000000</td>\n",
       "      <td>0.000000</td>\n",
       "      <td>0.157978</td>\n",
       "      <td>0.012107</td>\n",
       "      <td>0.000000</td>\n",
       "      <td>0.000000</td>\n",
       "      <td>0.000000</td>\n",
       "      <td>0.000000</td>\n",
       "    </tr>\n",
       "    <tr>\n",
       "      <th>12</th>\n",
       "      <td>150000000</td>\n",
       "      <td>0.004820</td>\n",
       "      <td>0.000000</td>\n",
       "      <td>0.000000</td>\n",
       "      <td>0.000000</td>\n",
       "      <td>0.000000</td>\n",
       "      <td>0.000000</td>\n",
       "      <td>0.000000</td>\n",
       "      <td>0.000000</td>\n",
       "      <td>0.010643</td>\n",
       "      <td>0.000000</td>\n",
       "    </tr>\n",
       "  </tbody>\n",
       "</table>\n",
       "</div>"
      ],
      "text/plain": [
       "       Owners  Action_prop  Adventure_prop  Casual_prop  Indie_prop  \\\n",
       "0       10000    67.984190       67.502124    75.106154   70.858669   \n",
       "1       35000    12.465054       13.976211    12.298562   13.130079   \n",
       "2       75000     6.348212        6.770391     5.499565    6.225493   \n",
       "3      150000     4.318905        4.688828     3.289507    4.208104   \n",
       "4      350000     4.256242        3.860450     2.460736    3.386941   \n",
       "5      750000     1.976285        1.539932     0.777613    1.247372   \n",
       "6     1500000     1.267714        0.881478     0.312068    0.514292   \n",
       "7     3500000     0.959221        0.531011     0.158592    0.304029   \n",
       "8     7500000     0.221729        0.138063     0.061390    0.068193   \n",
       "9    15000000     0.115685        0.058411     0.020463    0.036938   \n",
       "10   35000000     0.067483        0.042481     0.015348    0.019890   \n",
       "11   75000000     0.014461        0.010620     0.000000    0.000000   \n",
       "12  150000000     0.004820        0.000000     0.000000    0.000000   \n",
       "\n",
       "    Massively Multiplayer_prop   RPG_prop  Racing_prop  Simulation_prop  \\\n",
       "0                    43.680885  59.503632    68.952062        68.026067   \n",
       "1                    13.665087  15.544794    12.095875        12.140004   \n",
       "2                     9.873618   8.716707     6.521739         7.052764   \n",
       "3                     9.399684   5.944310     4.960981         4.750893   \n",
       "4                     8.688784   5.108959     4.682274         4.330460   \n",
       "5                     6.240126   2.639225     1.393534         1.839395   \n",
       "6                     3.475513   1.319613     0.780379         1.019550   \n",
       "7                     2.843602   0.835351     0.557414         0.599117   \n",
       "8                     0.868878   0.181598     0.000000         0.115619   \n",
       "9                     0.868878   0.121065     0.055741         0.115619   \n",
       "10                    0.236967   0.072639     0.000000         0.010511   \n",
       "11                    0.157978   0.012107     0.000000         0.000000   \n",
       "12                    0.000000   0.000000     0.000000         0.000000   \n",
       "\n",
       "    Strategy_prop  Sports_prop  \n",
       "0       62.824606    73.100173  \n",
       "1       14.240102    10.967185  \n",
       "2        7.662835     5.829016  \n",
       "3        5.938697     3.497409  \n",
       "4        5.300128     3.626943  \n",
       "5        2.054066     1.208981  \n",
       "6        1.117497     0.863558  \n",
       "7        0.659855     0.604491  \n",
       "8        0.159642     0.172712  \n",
       "9        0.031928     0.129534  \n",
       "10       0.000000     0.000000  \n",
       "11       0.000000     0.000000  \n",
       "12       0.010643     0.000000  "
      ]
     },
     "execution_count": 44,
     "metadata": {},
     "output_type": "execute_result"
    }
   ],
   "source": [
    "\n",
    "genre_counts"
   ]
  },
  {
   "cell_type": "markdown",
   "id": "746c8c3c",
   "metadata": {},
   "source": [
    "We can get to some conclusions from this table:\n",
    "- 10k downloads range dominates for all games. Despite this, MMOs are the genre with fewer games in this range, just 43%. RPGs are the second genre with fewer games in this range, 59%. The rest of genres are around 60-75%.\n",
    "- We see similar distributions among all the genres for all the ranges. The only difference is MMOs, which dominate from 75k to 15M.\n",
    "- Dota2 is the reason why Action and Strategy have a game in 150M+."
   ]
  },
  {
   "cell_type": "code",
   "execution_count": 45,
   "id": "03558e97",
   "metadata": {},
   "outputs": [
    {
     "data": {
      "image/png": "[encoded data removed]",
      "text/plain": [
       "<Figure size 576x432 with 1 Axes>"
      ]
     },
     "metadata": {
      "needs_background": "light"
     },
     "output_type": "display_data"
    }
   ],
   "source": [
    "genre_playtime={}\n",
    "for genre in genre_col:\n",
    "    group = games[games[genre] == 1]['Average playtime forever'].mean()\n",
    "    genre_playtime[genre]=group\n",
    "\n",
    "fig, ax = plt.subplots(figsize=(8,6))\n",
    "for genre, playtime in genre_playtime.items():\n",
    "    ax.bar(genre, playtime, label=genre)\n",
    "ax.set_title(\"Average Playtime by Genre\")\n",
    "ax.set_xlabel(\"Genre\")\n",
    "ax.set_ylabel(\"Average Playtime\")\n",
    "plt.xticks(rotation=80)\n",
    "plt.show()"
   ]
  },
  {
   "cell_type": "code",
   "execution_count": 46,
   "id": "37cb937d",
   "metadata": {},
   "outputs": [
    {
     "name": "stdout",
     "output_type": "stream",
     "text": [
      "Mean rating for Action: 143.21729490022173\n",
      "Mean rating for Adventure: 145.95831563296517\n",
      "Mean rating for Casual: 87.86770348391057\n",
      "Mean rating for Indie: 99.43575609478889\n",
      "Mean rating for Massively Multiplayer: 465.22432859399686\n",
      "Mean rating for RPG: 266.8176755447942\n",
      "Mean rating for Racing: 151.4264214046823\n",
      "Mean rating for Simulation: 224.1224511246584\n",
      "Mean rating for Strategy: 233.43720732226478\n",
      "Mean rating for Sports: 206.01640759930916\n"
     ]
    }
   ],
   "source": [
    "# Dictionary to store mean playtime for each genre column\n",
    "avg_playtimes = {}\n",
    "\n",
    "# Iterate through each genre column and calculate mean playtime\n",
    "for col in genre_col:\n",
    "    avg_playtime = games[games[col] == 1]['Average playtime forever'].mean()\n",
    "    avg_playtimes[col] = avg_playtime\n",
    "\n",
    "# Print the mean playtime for each genre column\n",
    "for genre, avg_playtime in avg_playtimes.items():\n",
    "    print(f\"Mean rating for {genre}: {avg_playtime}\")"
   ]
  },
  {
   "cell_type": "markdown",
   "id": "029bb148",
   "metadata": {},
   "source": [
    "Main findings:\n",
    "- MMOs are by large the genre with more average playtime. As we have discussed early, this may be done by the sunk cost of the subscription model. As players are spending more money on the game, they feel they need to spend more time playing it. \n",
    "- Then we have a second group of genres situated around the 200 h average playtime. RPGs, Sports, Simulation and Strategy form this group. These 4 are 4 genres that were not doing well in total downloads, but they look good on retention. \n",
    "- We have a last group of genres with around 100h of average playtime. Action, Adventure, Casual, Indie and Racing form this group. It is noteworthy that genres such as Action, Adventure or Indie which have a lot of total downloads and good ratings, perform so badly in average playtime. This may be caused because these games are shorter than for example MMOs. We have no data on the length of the games, so this is something to be careful about. Probably casual games are the shortest games and this is the reason why they are the genre with less average playtime. "
   ]
  },
  {
   "cell_type": "code",
   "execution_count": 47,
   "id": "6ac4bcc1",
   "metadata": {},
   "outputs": [
    {
     "data": {
      "image/png": "[encoded data removed]",
      "text/plain": [
       "<Figure size 432x288 with 1 Axes>"
      ]
     },
     "metadata": {
      "needs_background": "light"
     },
     "output_type": "display_data"
    }
   ],
   "source": [
    "#Number of games in the top 100 per genre\n",
    "top100 = games.sort_values(by='Owners', ascending = False)[['Name', 'Action', 'Sports', 'Adventure', 'Strategy', 'Casual','Indie','Massively Multiplayer','RPG','Racing','Simulation']].head(100)\n",
    "genre_top100 = top100.iloc[:, 1:].sum()\n",
    "\n",
    "# Create bar plot\n",
    "plt.bar(genre_top100.index, genre_top100.values)\n",
    "plt.xticks(rotation=60)\n",
    "plt.title('Genre Counts')\n",
    "plt.xlabel('Genre')\n",
    "plt.ylabel('Number of games in top 100')\n",
    "plt.show() "
   ]
  },
  {
   "cell_type": "markdown",
   "id": "5afa4591",
   "metadata": {},
   "source": [
    "Action games dominate the top 100 with more than 70 games. Adventure and Indie do also have an important representation with nearly 40 games.  Sports and Racing are the categories with less representation in the top 100. "
   ]
  },
  {
   "cell_type": "markdown",
   "id": "ae6d6be8",
   "metadata": {},
   "source": [
    "### PUBLISHERS AND DEVS"
   ]
  },
  {
   "cell_type": "markdown",
   "id": "fe843c99",
   "metadata": {},
   "source": [
    "The analysis process for publishers and devs will be as follows:\n",
    "- We will start by looking at how many publishers/developers have more than one game in the top 100\n",
    "- Then we will look at the top10 devs/publishers with more total downloads\n",
    "- After this, our analysis will be focused on these top 10 companies. We will create a table where we will see how many games were released by each of these companies, total downloads, average rating and number of free-to-play games\n"
   ]
  },
  {
   "cell_type": "markdown",
   "id": "bda08880",
   "metadata": {},
   "source": [
    "### Developers"
   ]
  },
  {
   "cell_type": "code",
   "execution_count": 48,
   "id": "4b1299af",
   "metadata": {},
   "outputs": [
    {
     "data": {
      "text/html": [
       "<div>\n",
       "<style scoped>\n",
       "    .dataframe tbody tr th:only-of-type {\n",
       "        vertical-align: middle;\n",
       "    }\n",
       "\n",
       "    .dataframe tbody tr th {\n",
       "        vertical-align: top;\n",
       "    }\n",
       "\n",
       "    .dataframe thead th {\n",
       "        text-align: right;\n",
       "    }\n",
       "</style>\n",
       "<table border=\"1\" class=\"dataframe\">\n",
       "  <thead>\n",
       "    <tr style=\"text-align: right;\">\n",
       "      <th></th>\n",
       "      <th>Developers</th>\n",
       "      <th>Name</th>\n",
       "    </tr>\n",
       "  </thead>\n",
       "  <tbody>\n",
       "    <tr>\n",
       "      <th>0</th>\n",
       "      <td>Valve</td>\n",
       "      <td>4</td>\n",
       "    </tr>\n",
       "    <tr>\n",
       "      <th>1</th>\n",
       "      <td>CD PROJEKT RED</td>\n",
       "      <td>2</td>\n",
       "    </tr>\n",
       "    <tr>\n",
       "      <th>2</th>\n",
       "      <td>DONTNOD Entertainment,Feral Interactive (Mac),...</td>\n",
       "      <td>2</td>\n",
       "    </tr>\n",
       "    <tr>\n",
       "      <th>3</th>\n",
       "      <td>Wargaming Group Limited</td>\n",
       "      <td>2</td>\n",
       "    </tr>\n",
       "    <tr>\n",
       "      <th>4</th>\n",
       "      <td>Firaxis Games,Aspyr (Mac),Aspyr (Linux)</td>\n",
       "      <td>2</td>\n",
       "    </tr>\n",
       "    <tr>\n",
       "      <th>5</th>\n",
       "      <td>Bohemia Interactive</td>\n",
       "      <td>2</td>\n",
       "    </tr>\n",
       "  </tbody>\n",
       "</table>\n",
       "</div>"
      ],
      "text/plain": [
       "                                          Developers  Name\n",
       "0                                              Valve     4\n",
       "1                                     CD PROJEKT RED     2\n",
       "2  DONTNOD Entertainment,Feral Interactive (Mac),...     2\n",
       "3                            Wargaming Group Limited     2\n",
       "4            Firaxis Games,Aspyr (Mac),Aspyr (Linux)     2\n",
       "5                                Bohemia Interactive     2"
      ]
     },
     "execution_count": 48,
     "metadata": {},
     "output_type": "execute_result"
    }
   ],
   "source": [
    "#How is the top100 games distributed by devs?\n",
    "top_100_devs = games.sort_values(by='Owners', ascending = False).head(100)\n",
    "top_devs = top_100_devs.groupby('Developers').agg({'Name':'count'}).sort_values(by='Name', ascending=False).reset_index()\n",
    "top_devs_counts_gt = top_devs[top_devs['Name'] >1]\n",
    "top_devs_counts_gt\n"
   ]
  },
  {
   "cell_type": "code",
   "execution_count": 49,
   "id": "5ed82387",
   "metadata": {},
   "outputs": [
    {
     "data": {
      "text/html": [
       "<div>\n",
       "<style scoped>\n",
       "    .dataframe tbody tr th:only-of-type {\n",
       "        vertical-align: middle;\n",
       "    }\n",
       "\n",
       "    .dataframe tbody tr th {\n",
       "        vertical-align: top;\n",
       "    }\n",
       "\n",
       "    .dataframe thead th {\n",
       "        text-align: right;\n",
       "    }\n",
       "</style>\n",
       "<table border=\"1\" class=\"dataframe\">\n",
       "  <thead>\n",
       "    <tr style=\"text-align: right;\">\n",
       "      <th></th>\n",
       "      <th>Developers</th>\n",
       "      <th>Owners</th>\n",
       "    </tr>\n",
       "  </thead>\n",
       "  <tbody>\n",
       "    <tr>\n",
       "      <th>26204</th>\n",
       "      <td>Valve</td>\n",
       "      <td>188510000</td>\n",
       "    </tr>\n",
       "    <tr>\n",
       "      <th>12955</th>\n",
       "      <td>KRAFTON, Inc.</td>\n",
       "      <td>75750000</td>\n",
       "    </tr>\n",
       "    <tr>\n",
       "      <th>26206</th>\n",
       "      <td>Valve,Hidden Path Entertainment</td>\n",
       "      <td>75000000</td>\n",
       "    </tr>\n",
       "    <tr>\n",
       "      <th>1309</th>\n",
       "      <td>Amazon Games</td>\n",
       "      <td>75000000</td>\n",
       "    </tr>\n",
       "    <tr>\n",
       "      <th>25789</th>\n",
       "      <td>Ubisoft Montreal</td>\n",
       "      <td>48985000</td>\n",
       "    </tr>\n",
       "    <tr>\n",
       "      <th>3919</th>\n",
       "      <td>CAPCOM Co., Ltd.</td>\n",
       "      <td>48635000</td>\n",
       "    </tr>\n",
       "    <tr>\n",
       "      <th>20436</th>\n",
       "      <td>Respawn Entertainment</td>\n",
       "      <td>40075000</td>\n",
       "    </tr>\n",
       "    <tr>\n",
       "      <th>6573</th>\n",
       "      <td>Digital Extremes</td>\n",
       "      <td>36500000</td>\n",
       "    </tr>\n",
       "    <tr>\n",
       "      <th>3945</th>\n",
       "      <td>CD PROJEKT RED</td>\n",
       "      <td>35750000</td>\n",
       "    </tr>\n",
       "    <tr>\n",
       "      <th>8175</th>\n",
       "      <td>Facepunch Studios</td>\n",
       "      <td>35120000</td>\n",
       "    </tr>\n",
       "  </tbody>\n",
       "</table>\n",
       "</div>"
      ],
      "text/plain": [
       "                            Developers     Owners\n",
       "26204                            Valve  188510000\n",
       "12955                    KRAFTON, Inc.   75750000\n",
       "26206  Valve,Hidden Path Entertainment   75000000\n",
       "1309                      Amazon Games   75000000\n",
       "25789                 Ubisoft Montreal   48985000\n",
       "3919                  CAPCOM Co., Ltd.   48635000\n",
       "20436            Respawn Entertainment   40075000\n",
       "6573                  Digital Extremes   36500000\n",
       "3945                    CD PROJEKT RED   35750000\n",
       "8175                 Facepunch Studios   35120000"
      ]
     },
     "execution_count": 49,
     "metadata": {},
     "output_type": "execute_result"
    }
   ],
   "source": [
    "#Devs that sold most games\n",
    "top_devs = games.groupby('Developers').agg({'Owners':'sum'}).reset_index()\n",
    "top_devs = top_devs.sort_values(by='Owners', ascending = False).head(10)\n",
    "top_devs"
   ]
  },
  {
   "cell_type": "code",
   "execution_count": 50,
   "id": "57837760",
   "metadata": {},
   "outputs": [
    {
     "data": {
      "image/png": "[encoded data removed]",
      "text/plain": [
       "<Figure size 432x288 with 1 Axes>"
      ]
     },
     "metadata": {
      "needs_background": "light"
     },
     "output_type": "display_data"
    }
   ],
   "source": [
    "sns.barplot(x='Developers', y='Owners', data = top_devs)\n",
    "formatter = FuncFormatter(millions_formatter)\n",
    "plt.gca().yaxis.set_major_formatter(formatter)\n",
    "plt.xticks(rotation=80)\n",
    "plt.show()"
   ]
  },
  {
   "cell_type": "markdown",
   "id": "fa7907cc",
   "metadata": {},
   "source": [
    "- In the top 100 we have just 6 developers with more than 1 game. \n",
    "- Valve dominates the steam marketplace in total downloads. They have sold nearly 200M in the 11 years we have analyzed. \n",
    "- It is also important to notice that the 3rd developer with more downloads(75M) is Valve with Hidden Path Entertainment. This collaboration between the two developers resulted in CS:GO, one of the most popular games on steam. I have decided not to count the collaborations or the different departments of a company(for example, Ubisoft is not the same Developer as Ubisoft Montreal in the dataset) as separate parts. I think that for example, CS:GO is the result of the collaboration between the two companies. If Valve or Hidden Path Entertainment had developed alone CS:GO, probably the results would have not been the same. \n",
    "- Krafton and Amazon Games also sum around 75M downloads.\n",
    "- The rest of the top10 is situated around 35M-50M downloads.\n",
    "\n",
    "Let's dig deeper into the top 10 developers. "
   ]
  },
  {
   "cell_type": "code",
   "execution_count": 51,
   "id": "164dce92",
   "metadata": {},
   "outputs": [],
   "source": [
    "#Let's analyze the top 10 devs. We will have a look at releases, downloads, rating, average playtime and the number of f2p games designed\n",
    "developer_stats = games.groupby('Developers').agg(\n",
    "    total_releases=('Name', 'count'),\n",
    "    total_downloads=('Owners', 'sum'),\n",
    "    average_rating=('Rating', 'mean'),\n",
    "    average_playtime = ('Average playtime forever', 'mean')).sort_values(by='total_downloads', ascending =False).head(10)\n",
    "# reset the index to make Developer a column instead of the index\n",
    "developer_stats = developer_stats.reset_index()\n"
   ]
  },
  {
   "cell_type": "code",
   "execution_count": 52,
   "id": "01adc94f",
   "metadata": {},
   "outputs": [
    {
     "data": {
      "text/plain": [
       "Index(['Unnamed: 0', 'Name', 'Release date', 'Peak CCU', 'Price', 'Positive',\n",
       "       'Negative', 'Average playtime forever', 'Developers', 'Publishers',\n",
       "       'Owners', 'Release Year', 'total_reviews', 'rating_ratio', 'Rating',\n",
       "       'Price Group', 'Multi_player', 'Single_player', 'Action', 'Adventure',\n",
       "       'Casual', 'Indie', 'Massively Multiplayer', 'RPG', 'Racing',\n",
       "       'Simulation', 'Strategy', 'Sports', 'Price_type'],\n",
       "      dtype='object')"
      ]
     },
     "execution_count": 52,
     "metadata": {},
     "output_type": "execute_result"
    }
   ],
   "source": [
    "games.columns"
   ]
  },
  {
   "cell_type": "code",
   "execution_count": 65,
   "id": "c5d7d53b",
   "metadata": {},
   "outputs": [
    {
     "data": {
      "text/html": [
       "<div>\n",
       "<style scoped>\n",
       "    .dataframe tbody tr th:only-of-type {\n",
       "        vertical-align: middle;\n",
       "    }\n",
       "\n",
       "    .dataframe tbody tr th {\n",
       "        vertical-align: top;\n",
       "    }\n",
       "\n",
       "    .dataframe thead th {\n",
       "        text-align: right;\n",
       "    }\n",
       "</style>\n",
       "<table border=\"1\" class=\"dataframe\">\n",
       "  <thead>\n",
       "    <tr style=\"text-align: right;\">\n",
       "      <th></th>\n",
       "      <th>Name</th>\n",
       "      <th>Owners</th>\n",
       "      <th>Rating</th>\n",
       "      <th>Peak CCU</th>\n",
       "      <th>Positive</th>\n",
       "      <th>Negative</th>\n",
       "      <th>Rating</th>\n",
       "      <th>Average playtime forever</th>\n",
       "      <th>Release Year</th>\n",
       "    </tr>\n",
       "  </thead>\n",
       "  <tbody>\n",
       "    <tr>\n",
       "      <th>6914</th>\n",
       "      <td>PUBG: BATTLEGROUNDS</td>\n",
       "      <td>75000000</td>\n",
       "      <td>55.952870</td>\n",
       "      <td>275374</td>\n",
       "      <td>1154655</td>\n",
       "      <td>895978</td>\n",
       "      <td>55.952870</td>\n",
       "      <td>21963</td>\n",
       "      <td>2017</td>\n",
       "    </tr>\n",
       "    <tr>\n",
       "      <th>16845</th>\n",
       "      <td>Thunder Tier One</td>\n",
       "      <td>750000</td>\n",
       "      <td>72.635794</td>\n",
       "      <td>25</td>\n",
       "      <td>2561</td>\n",
       "      <td>812</td>\n",
       "      <td>72.635794</td>\n",
       "      <td>205</td>\n",
       "      <td>2021</td>\n",
       "    </tr>\n",
       "  </tbody>\n",
       "</table>\n",
       "</div>"
      ],
      "text/plain": [
       "                      Name    Owners     Rating  Peak CCU  Positive  Negative  \\\n",
       "6914   PUBG: BATTLEGROUNDS  75000000  55.952870    275374   1154655    895978   \n",
       "16845     Thunder Tier One    750000  72.635794        25      2561       812   \n",
       "\n",
       "          Rating  Average playtime forever  Release Year  \n",
       "6914   55.952870                     21963          2017  \n",
       "16845  72.635794                       205          2021  "
      ]
     },
     "execution_count": 65,
     "metadata": {},
     "output_type": "execute_result"
    }
   ],
   "source": [
    "games[games['Developers'] == 'KRAFTON, Inc.'][['Name','Owners','Rating', 'Peak CCU', 'Positive','Negative','Rating','Average playtime forever','Release Year']]"
   ]
  },
  {
   "cell_type": "code",
   "execution_count": 54,
   "id": "249d547a",
   "metadata": {},
   "outputs": [
    {
     "data": {
      "text/html": [
       "<div>\n",
       "<style scoped>\n",
       "    .dataframe tbody tr th:only-of-type {\n",
       "        vertical-align: middle;\n",
       "    }\n",
       "\n",
       "    .dataframe tbody tr th {\n",
       "        vertical-align: top;\n",
       "    }\n",
       "\n",
       "    .dataframe thead th {\n",
       "        text-align: right;\n",
       "    }\n",
       "</style>\n",
       "<table border=\"1\" class=\"dataframe\">\n",
       "  <thead>\n",
       "    <tr style=\"text-align: right;\">\n",
       "      <th></th>\n",
       "      <th>Developers</th>\n",
       "      <th>total_releases</th>\n",
       "      <th>total_downloads</th>\n",
       "      <th>average_rating</th>\n",
       "      <th>average_playtime</th>\n",
       "      <th>F2P Games</th>\n",
       "    </tr>\n",
       "  </thead>\n",
       "  <tbody>\n",
       "    <tr>\n",
       "      <th>0</th>\n",
       "      <td>Valve</td>\n",
       "      <td>8</td>\n",
       "      <td>188510000</td>\n",
       "      <td>85.282646</td>\n",
       "      <td>5508.875000</td>\n",
       "      <td>4</td>\n",
       "    </tr>\n",
       "    <tr>\n",
       "      <th>1</th>\n",
       "      <td>KRAFTON, Inc.</td>\n",
       "      <td>2</td>\n",
       "      <td>75750000</td>\n",
       "      <td>64.294332</td>\n",
       "      <td>11084.000000</td>\n",
       "      <td>1</td>\n",
       "    </tr>\n",
       "    <tr>\n",
       "      <th>2</th>\n",
       "      <td>Valve,Hidden Path Entertainment</td>\n",
       "      <td>1</td>\n",
       "      <td>75000000</td>\n",
       "      <td>87.869186</td>\n",
       "      <td>30484.000000</td>\n",
       "      <td>1</td>\n",
       "    </tr>\n",
       "    <tr>\n",
       "      <th>3</th>\n",
       "      <td>Amazon Games</td>\n",
       "      <td>1</td>\n",
       "      <td>75000000</td>\n",
       "      <td>66.878484</td>\n",
       "      <td>7432.000000</td>\n",
       "      <td>0</td>\n",
       "    </tr>\n",
       "    <tr>\n",
       "      <th>4</th>\n",
       "      <td>Ubisoft Montreal</td>\n",
       "      <td>17</td>\n",
       "      <td>48985000</td>\n",
       "      <td>78.717480</td>\n",
       "      <td>1423.117647</td>\n",
       "      <td>1</td>\n",
       "    </tr>\n",
       "    <tr>\n",
       "      <th>5</th>\n",
       "      <td>CAPCOM Co., Ltd.</td>\n",
       "      <td>20</td>\n",
       "      <td>48635000</td>\n",
       "      <td>84.331169</td>\n",
       "      <td>1626.400000</td>\n",
       "      <td>3</td>\n",
       "    </tr>\n",
       "    <tr>\n",
       "      <th>6</th>\n",
       "      <td>Respawn Entertainment</td>\n",
       "      <td>4</td>\n",
       "      <td>40075000</td>\n",
       "      <td>81.356266</td>\n",
       "      <td>2146.500000</td>\n",
       "      <td>1</td>\n",
       "    </tr>\n",
       "    <tr>\n",
       "      <th>7</th>\n",
       "      <td>Digital Extremes</td>\n",
       "      <td>2</td>\n",
       "      <td>36500000</td>\n",
       "      <td>89.136132</td>\n",
       "      <td>4919.000000</td>\n",
       "      <td>1</td>\n",
       "    </tr>\n",
       "    <tr>\n",
       "      <th>8</th>\n",
       "      <td>CD PROJEKT RED</td>\n",
       "      <td>5</td>\n",
       "      <td>35750000</td>\n",
       "      <td>84.612024</td>\n",
       "      <td>2031.800000</td>\n",
       "      <td>1</td>\n",
       "    </tr>\n",
       "    <tr>\n",
       "      <th>9</th>\n",
       "      <td>Facepunch Studios</td>\n",
       "      <td>4</td>\n",
       "      <td>35120000</td>\n",
       "      <td>71.553304</td>\n",
       "      <td>4220.750000</td>\n",
       "      <td>2</td>\n",
       "    </tr>\n",
       "  </tbody>\n",
       "</table>\n",
       "</div>"
      ],
      "text/plain": [
       "                        Developers  total_releases  total_downloads  \\\n",
       "0                            Valve               8        188510000   \n",
       "1                    KRAFTON, Inc.               2         75750000   \n",
       "2  Valve,Hidden Path Entertainment               1         75000000   \n",
       "3                     Amazon Games               1         75000000   \n",
       "4                 Ubisoft Montreal              17         48985000   \n",
       "5                 CAPCOM Co., Ltd.              20         48635000   \n",
       "6            Respawn Entertainment               4         40075000   \n",
       "7                 Digital Extremes               2         36500000   \n",
       "8                   CD PROJEKT RED               5         35750000   \n",
       "9                Facepunch Studios               4         35120000   \n",
       "\n",
       "   average_rating  average_playtime  F2P Games  \n",
       "0       85.282646       5508.875000          4  \n",
       "1       64.294332      11084.000000          1  \n",
       "2       87.869186      30484.000000          1  \n",
       "3       66.878484       7432.000000          0  \n",
       "4       78.717480       1423.117647          1  \n",
       "5       84.331169       1626.400000          3  \n",
       "6       81.356266       2146.500000          1  \n",
       "7       89.136132       4919.000000          1  \n",
       "8       84.612024       2031.800000          1  \n",
       "9       71.553304       4220.750000          2  "
      ]
     },
     "execution_count": 54,
     "metadata": {},
     "output_type": "execute_result"
    }
   ],
   "source": [
    "#Add column of f2p games:\n",
    "# count number of games with price > 0 for each developer\n",
    "price_count = games.groupby('Developers')['Price'].apply(lambda x: (x == 0).sum())\n",
    "\n",
    "\n",
    "# merge the two new columns with the previous dataframe\n",
    "developer_stats = pd.merge(developer_stats, price_count, on='Developers')\n",
    "\n",
    "\n",
    "# rename the columns\n",
    "developer_stats.rename(columns={'Price':'F2P Games'}, inplace=True)\n",
    "developer_stats"
   ]
  },
  {
   "cell_type": "markdown",
   "id": "1b8c9bbe",
   "metadata": {},
   "source": [
    "\n",
    "- Total releases:  CAPCOM & Ubisoft are the developers that more games have released. Valve has released 8 games but is by large the developer with more downloads, largely driven by the success of Dota2(+150M downloads). We have CD Projekt with 5 releases & Facepunch Studios and Respawn Entertainment with 4 releases. Then we have a group of developers with 1 or 2 releases who have a game with a lot of downloads. For example, Krafton Inc -> PUBG, Amazon -> New World.\n",
    "- Average rating: We have previously analyzed that the increase in the release of games had a negative impact on average rating. When looking at the top 10 this is not true. There is no relationship between releases and rating. It looks like some developers are able to develop games that players like more. Valve, Capcom and Ubisoft have all average ratings near 80 or above. Valve is the second best developer by rating just behind Digital Extremes(developed games like Warframe or The Darkness II). The worst developers by rating are Krafton and Amazon games. In both cases, this bad rating is done by 1 game rating. In the case of Frafton, PUBG has an average rating of just 55. In the Amazon case, New World has a rating of 66. Near the average rating of these two developers, we have Facepunch Studios. The worst rated game of this developer is Chunks, a game that had a small number of players, with a 35 rating. The rest of games of this developer are above 77 rating. Then, we have the rest of the developers with around 80-85 rating. \n",
    "- Average playtime: unlike rating, in average playtime, we see that releasing a lot of games has a negative impact on average playtime.  The worst developers in this category are Ubisoft and Capcom, the developers that have released more games. CS:GO, the collaboration between Valve and Hidden Path Entertainment dominates average playtime. Then we have New World for Amazon Games and in the third place we have Valve, which despite having 8 games released, stills do very well on average playtime. \n",
    "- Free-to-play games: of the 66 games that make up the top 10 developers, just 15 are free(22%). Valve is the only developer with most of their games free. Of the 9 games Valve developed(counting the collaboration with Hidden Path Entertainent), 5 are free-to-play(55%). Valve's commitment to free-to-play has been successful. We have seen how they dominate in downloads and they also do very well at rating and average playtime. It is also important to say that Valve is the creator of Steam so they can have an advantage when publishing their games. \n",
    "\n",
    "In conclusion, in the top 10 developers by downloads, we have some developers that released many games(like Ubisoft Montreal) and other games with 1 or 2 releases like Amazon Games. We can say that having a one game hit can bring your company to the top 10. When looking at average rating, there is no clear tendency. We have games with a lot of downloads with a bad rating like PUBG(55 rating) and games with a lot of downloads with a great rating like the Witcher 3 of CD Projekt Red(95 rating). Total releases do have an effect on average playtime. The companies with the least games are the ones with more average playtime. Valve is the exception, despite having released 9 games, is able to retain players. Finally, the free-to-play model is not popular among the top 10 developers. Valve is another time the exception, having more than half of the games free. \n",
    "\n",
    "\n",
    "Let's repeat the process for Publishers"
   ]
  },
  {
   "cell_type": "code",
   "execution_count": 64,
   "id": "7c0fea4e",
   "metadata": {},
   "outputs": [
    {
     "data": {
      "text/html": [
       "<div>\n",
       "<style scoped>\n",
       "    .dataframe tbody tr th:only-of-type {\n",
       "        vertical-align: middle;\n",
       "    }\n",
       "\n",
       "    .dataframe tbody tr th {\n",
       "        vertical-align: top;\n",
       "    }\n",
       "\n",
       "    .dataframe thead th {\n",
       "        text-align: right;\n",
       "    }\n",
       "</style>\n",
       "<table border=\"1\" class=\"dataframe\">\n",
       "  <thead>\n",
       "    <tr style=\"text-align: right;\">\n",
       "      <th></th>\n",
       "      <th>Name</th>\n",
       "      <th>Owners</th>\n",
       "      <th>Rating</th>\n",
       "      <th>Peak CCU</th>\n",
       "      <th>Positive</th>\n",
       "      <th>Negative</th>\n",
       "      <th>Rating</th>\n",
       "      <th>Price</th>\n",
       "    </tr>\n",
       "  </thead>\n",
       "  <tbody>\n",
       "    <tr>\n",
       "      <th>3136</th>\n",
       "      <td>RAGE</td>\n",
       "      <td>750000</td>\n",
       "      <td>74.882831</td>\n",
       "      <td>79</td>\n",
       "      <td>12239</td>\n",
       "      <td>3661</td>\n",
       "      <td>74.882831</td>\n",
       "      <td>9.99</td>\n",
       "    </tr>\n",
       "    <tr>\n",
       "      <th>3371</th>\n",
       "      <td>DOOM Eternal: The Ancient Gods - Part One</td>\n",
       "      <td>350000</td>\n",
       "      <td>69.244419</td>\n",
       "      <td>0</td>\n",
       "      <td>3524</td>\n",
       "      <td>1368</td>\n",
       "      <td>69.244419</td>\n",
       "      <td>19.99</td>\n",
       "    </tr>\n",
       "    <tr>\n",
       "      <th>5161</th>\n",
       "      <td>Quake Champions</td>\n",
       "      <td>3500000</td>\n",
       "      <td>70.941489</td>\n",
       "      <td>611</td>\n",
       "      <td>24692</td>\n",
       "      <td>9362</td>\n",
       "      <td>70.941489</td>\n",
       "      <td>0.00</td>\n",
       "    </tr>\n",
       "    <tr>\n",
       "      <th>6940</th>\n",
       "      <td>DOOM</td>\n",
       "      <td>3500000</td>\n",
       "      <td>93.989336</td>\n",
       "      <td>1887</td>\n",
       "      <td>159063</td>\n",
       "      <td>7906</td>\n",
       "      <td>93.989336</td>\n",
       "      <td>19.99</td>\n",
       "    </tr>\n",
       "    <tr>\n",
       "      <th>9931</th>\n",
       "      <td>RAGE</td>\n",
       "      <td>10000</td>\n",
       "      <td>74.069598</td>\n",
       "      <td>0</td>\n",
       "      <td>9997</td>\n",
       "      <td>3111</td>\n",
       "      <td>74.069598</td>\n",
       "      <td>9.99</td>\n",
       "    </tr>\n",
       "    <tr>\n",
       "      <th>13436</th>\n",
       "      <td>DOOM VFR</td>\n",
       "      <td>350000</td>\n",
       "      <td>53.562159</td>\n",
       "      <td>3</td>\n",
       "      <td>1388</td>\n",
       "      <td>1080</td>\n",
       "      <td>53.562159</td>\n",
       "      <td>14.99</td>\n",
       "    </tr>\n",
       "    <tr>\n",
       "      <th>16895</th>\n",
       "      <td>Doom 3: BFG Edition</td>\n",
       "      <td>750000</td>\n",
       "      <td>83.056669</td>\n",
       "      <td>108</td>\n",
       "      <td>7239</td>\n",
       "      <td>1190</td>\n",
       "      <td>83.056669</td>\n",
       "      <td>19.99</td>\n",
       "    </tr>\n",
       "    <tr>\n",
       "      <th>25853</th>\n",
       "      <td>DOOM Eternal Year One Pass</td>\n",
       "      <td>10000</td>\n",
       "      <td>76.401635</td>\n",
       "      <td>0</td>\n",
       "      <td>128</td>\n",
       "      <td>21</td>\n",
       "      <td>76.401635</td>\n",
       "      <td>29.99</td>\n",
       "    </tr>\n",
       "    <tr>\n",
       "      <th>44505</th>\n",
       "      <td>Quake Live™</td>\n",
       "      <td>3500000</td>\n",
       "      <td>83.545208</td>\n",
       "      <td>424</td>\n",
       "      <td>12366</td>\n",
       "      <td>2021</td>\n",
       "      <td>83.545208</td>\n",
       "      <td>9.99</td>\n",
       "    </tr>\n",
       "    <tr>\n",
       "      <th>46986</th>\n",
       "      <td>DOOM Eternal</td>\n",
       "      <td>3500000</td>\n",
       "      <td>89.824120</td>\n",
       "      <td>1857</td>\n",
       "      <td>139391</td>\n",
       "      <td>13658</td>\n",
       "      <td>89.824120</td>\n",
       "      <td>39.99</td>\n",
       "    </tr>\n",
       "  </tbody>\n",
       "</table>\n",
       "</div>"
      ],
      "text/plain": [
       "                                            Name   Owners     Rating  \\\n",
       "3136                                        RAGE   750000  74.882831   \n",
       "3371   DOOM Eternal: The Ancient Gods - Part One   350000  69.244419   \n",
       "5161                             Quake Champions  3500000  70.941489   \n",
       "6940                                        DOOM  3500000  93.989336   \n",
       "9931                                        RAGE    10000  74.069598   \n",
       "13436                                   DOOM VFR   350000  53.562159   \n",
       "16895                        Doom 3: BFG Edition   750000  83.056669   \n",
       "25853                 DOOM Eternal Year One Pass    10000  76.401635   \n",
       "44505                                Quake Live™  3500000  83.545208   \n",
       "46986                               DOOM Eternal  3500000  89.824120   \n",
       "\n",
       "       Peak CCU  Positive  Negative     Rating  Price  \n",
       "3136         79     12239      3661  74.882831   9.99  \n",
       "3371          0      3524      1368  69.244419  19.99  \n",
       "5161        611     24692      9362  70.941489   0.00  \n",
       "6940       1887    159063      7906  93.989336  19.99  \n",
       "9931          0      9997      3111  74.069598   9.99  \n",
       "13436         3      1388      1080  53.562159  14.99  \n",
       "16895       108      7239      1190  83.056669  19.99  \n",
       "25853         0       128        21  76.401635  29.99  \n",
       "44505       424     12366      2021  83.545208   9.99  \n",
       "46986      1857    139391     13658  89.824120  39.99  "
      ]
     },
     "execution_count": 64,
     "metadata": {},
     "output_type": "execute_result"
    }
   ],
   "source": [
    "games[(games['Developers'] =='id Software')][['Name','Owners','Rating', 'Peak CCU', 'Positive','Negative','Rating','Price']]"
   ]
  },
  {
   "cell_type": "markdown",
   "id": "51d5c2b9",
   "metadata": {},
   "source": [
    "### Publishers"
   ]
  },
  {
   "cell_type": "code",
   "execution_count": 58,
   "id": "e7205bdc",
   "metadata": {},
   "outputs": [
    {
     "data": {
      "text/html": [
       "<div>\n",
       "<style scoped>\n",
       "    .dataframe tbody tr th:only-of-type {\n",
       "        vertical-align: middle;\n",
       "    }\n",
       "\n",
       "    .dataframe tbody tr th {\n",
       "        vertical-align: top;\n",
       "    }\n",
       "\n",
       "    .dataframe thead th {\n",
       "        text-align: right;\n",
       "    }\n",
       "</style>\n",
       "<table border=\"1\" class=\"dataframe\">\n",
       "  <thead>\n",
       "    <tr style=\"text-align: right;\">\n",
       "      <th></th>\n",
       "      <th>Publishers</th>\n",
       "      <th>Name</th>\n",
       "    </tr>\n",
       "  </thead>\n",
       "  <tbody>\n",
       "    <tr>\n",
       "      <th>0</th>\n",
       "      <td>Valve</td>\n",
       "      <td>5</td>\n",
       "    </tr>\n",
       "    <tr>\n",
       "      <th>1</th>\n",
       "      <td>Xbox Game Studios</td>\n",
       "      <td>3</td>\n",
       "    </tr>\n",
       "    <tr>\n",
       "      <th>2</th>\n",
       "      <td>Electronic Arts</td>\n",
       "      <td>3</td>\n",
       "    </tr>\n",
       "    <tr>\n",
       "      <th>3</th>\n",
       "      <td>Hi-Rez Studios</td>\n",
       "      <td>3</td>\n",
       "    </tr>\n",
       "    <tr>\n",
       "      <th>4</th>\n",
       "      <td>2K,Aspyr (Mac),Aspyr (Linux)</td>\n",
       "      <td>3</td>\n",
       "    </tr>\n",
       "    <tr>\n",
       "      <th>5</th>\n",
       "      <td>Rockstar Games</td>\n",
       "      <td>2</td>\n",
       "    </tr>\n",
       "    <tr>\n",
       "      <th>6</th>\n",
       "      <td>Bethesda Softworks</td>\n",
       "      <td>2</td>\n",
       "    </tr>\n",
       "    <tr>\n",
       "      <th>7</th>\n",
       "      <td>Bohemia Interactive</td>\n",
       "      <td>2</td>\n",
       "    </tr>\n",
       "    <tr>\n",
       "      <th>8</th>\n",
       "      <td>Wargaming Group Limited</td>\n",
       "      <td>2</td>\n",
       "    </tr>\n",
       "    <tr>\n",
       "      <th>9</th>\n",
       "      <td>2K</td>\n",
       "      <td>2</td>\n",
       "    </tr>\n",
       "    <tr>\n",
       "      <th>10</th>\n",
       "      <td>CD PROJEKT RED</td>\n",
       "      <td>2</td>\n",
       "    </tr>\n",
       "    <tr>\n",
       "      <th>11</th>\n",
       "      <td>Coffee Stain Publishing</td>\n",
       "      <td>2</td>\n",
       "    </tr>\n",
       "    <tr>\n",
       "      <th>12</th>\n",
       "      <td>SEGA,Feral Interactive (Mac),Feral Interactive...</td>\n",
       "      <td>2</td>\n",
       "    </tr>\n",
       "    <tr>\n",
       "      <th>13</th>\n",
       "      <td>Daybreak Game Company</td>\n",
       "      <td>2</td>\n",
       "    </tr>\n",
       "    <tr>\n",
       "      <th>14</th>\n",
       "      <td>Ubisoft</td>\n",
       "      <td>2</td>\n",
       "    </tr>\n",
       "  </tbody>\n",
       "</table>\n",
       "</div>"
      ],
      "text/plain": [
       "                                           Publishers  Name\n",
       "0                                               Valve     5\n",
       "1                                   Xbox Game Studios     3\n",
       "2                                     Electronic Arts     3\n",
       "3                                      Hi-Rez Studios     3\n",
       "4                        2K,Aspyr (Mac),Aspyr (Linux)     3\n",
       "5                                      Rockstar Games     2\n",
       "6                                  Bethesda Softworks     2\n",
       "7                                 Bohemia Interactive     2\n",
       "8                             Wargaming Group Limited     2\n",
       "9                                                  2K     2\n",
       "10                                     CD PROJEKT RED     2\n",
       "11                            Coffee Stain Publishing     2\n",
       "12  SEGA,Feral Interactive (Mac),Feral Interactive...     2\n",
       "13                              Daybreak Game Company     2\n",
       "14                                            Ubisoft     2"
      ]
     },
     "execution_count": 58,
     "metadata": {},
     "output_type": "execute_result"
    }
   ],
   "source": [
    "top_100_publ = games.sort_values(by='Owners', ascending = False).head(100)\n",
    "top_publ3 = top_100_publ.groupby('Publishers').agg({'Name':'count'}).sort_values(by='Name', ascending=False).reset_index()\n",
    "top_publ_counts_gt = top_publ3[top_publ3['Name'] >1]\n",
    "top_publ_counts_gt"
   ]
  },
  {
   "cell_type": "code",
   "execution_count": 59,
   "id": "91addbc5",
   "metadata": {},
   "outputs": [
    {
     "data": {
      "text/html": [
       "<div>\n",
       "<style scoped>\n",
       "    .dataframe tbody tr th:only-of-type {\n",
       "        vertical-align: middle;\n",
       "    }\n",
       "\n",
       "    .dataframe tbody tr th {\n",
       "        vertical-align: top;\n",
       "    }\n",
       "\n",
       "    .dataframe thead th {\n",
       "        text-align: right;\n",
       "    }\n",
       "</style>\n",
       "<table border=\"1\" class=\"dataframe\">\n",
       "  <thead>\n",
       "    <tr style=\"text-align: right;\">\n",
       "      <th></th>\n",
       "      <th>Publishers</th>\n",
       "      <th>Owners</th>\n",
       "    </tr>\n",
       "  </thead>\n",
       "  <tbody>\n",
       "    <tr>\n",
       "      <th>22376</th>\n",
       "      <td>Valve</td>\n",
       "      <td>263860000</td>\n",
       "    </tr>\n",
       "    <tr>\n",
       "      <th>22013</th>\n",
       "      <td>Ubisoft</td>\n",
       "      <td>146680000</td>\n",
       "    </tr>\n",
       "    <tr>\n",
       "      <th>6374</th>\n",
       "      <td>Electronic Arts</td>\n",
       "      <td>125225000</td>\n",
       "    </tr>\n",
       "    <tr>\n",
       "      <th>23477</th>\n",
       "      <td>Xbox Game Studios</td>\n",
       "      <td>105555000</td>\n",
       "    </tr>\n",
       "    <tr>\n",
       "      <th>2448</th>\n",
       "      <td>Bethesda Softworks</td>\n",
       "      <td>91405000</td>\n",
       "    </tr>\n",
       "    <tr>\n",
       "      <th>11091</th>\n",
       "      <td>KRAFTON, Inc.</td>\n",
       "      <td>75750000</td>\n",
       "    </tr>\n",
       "    <tr>\n",
       "      <th>1150</th>\n",
       "      <td>Amazon Games</td>\n",
       "      <td>75000000</td>\n",
       "    </tr>\n",
       "    <tr>\n",
       "      <th>18087</th>\n",
       "      <td>SEGA</td>\n",
       "      <td>65680000</td>\n",
       "    </tr>\n",
       "    <tr>\n",
       "      <th>15701</th>\n",
       "      <td>Paradox Interactive</td>\n",
       "      <td>60200000</td>\n",
       "    </tr>\n",
       "    <tr>\n",
       "      <th>4191</th>\n",
       "      <td>Coffee Stain Publishing</td>\n",
       "      <td>57685000</td>\n",
       "    </tr>\n",
       "  </tbody>\n",
       "</table>\n",
       "</div>"
      ],
      "text/plain": [
       "                    Publishers     Owners\n",
       "22376                    Valve  263860000\n",
       "22013                  Ubisoft  146680000\n",
       "6374           Electronic Arts  125225000\n",
       "23477        Xbox Game Studios  105555000\n",
       "2448        Bethesda Softworks   91405000\n",
       "11091            KRAFTON, Inc.   75750000\n",
       "1150              Amazon Games   75000000\n",
       "18087                     SEGA   65680000\n",
       "15701      Paradox Interactive   60200000\n",
       "4191   Coffee Stain Publishing   57685000"
      ]
     },
     "execution_count": 59,
     "metadata": {},
     "output_type": "execute_result"
    }
   ],
   "source": [
    "#Repeat process for publishers\n",
    "top_publ = games.groupby('Publishers').agg({'Owners':'sum'}).reset_index()\n",
    "top_publ = top_publ.sort_values(by='Owners', ascending = False).head(10)\n",
    "top_publ"
   ]
  },
  {
   "cell_type": "code",
   "execution_count": 60,
   "id": "c17aa5d2",
   "metadata": {},
   "outputs": [
    {
     "data": {
      "image/png": "[encoded data removed]",
      "text/plain": [
       "<Figure size 432x288 with 1 Axes>"
      ]
     },
     "metadata": {
      "needs_background": "light"
     },
     "output_type": "display_data"
    }
   ],
   "source": [
    "sns.barplot(x='Publishers', y='Owners', data = top_publ)\n",
    "formatter = FuncFormatter(millions_formatter)\n",
    "plt.gca().yaxis.set_major_formatter(formatter)\n",
    "plt.xticks(rotation=80)\n",
    "plt.show()"
   ]
  },
  {
   "cell_type": "markdown",
   "id": "6a708900",
   "metadata": {},
   "source": [
    "- We have less variety of publishers in the top 100 than in developers. We have 15 publishers with more than 1 game in the top 100. \n",
    "- Valve dominates the top 100 publishers but with less difference than the top 10 developers. We have new entrants in the top 100 that we do not have in the developers' top 100 like Electronic Arts or Sega. \n",
    "- It is harder to get to the top 10 publishers than the top10 developers. The last participant of the top 10 publishers has over 57M downloads, while in the developers' top 10 was over 35M.\n",
    "\n"
   ]
  },
  {
   "cell_type": "code",
   "execution_count": 61,
   "id": "3715c6f1",
   "metadata": {},
   "outputs": [],
   "source": [
    "publisher_stats = games.groupby('Publishers').agg(\n",
    "    total_releases=('Name', 'count'),\n",
    "    total_downloads=('Owners', 'sum'),\n",
    "    average_rating=('Rating', 'mean'),\n",
    "    average_playtime = ('Average playtime forever', 'mean')).sort_values(by='total_downloads', ascending =False).head(10)\n",
    "# reset the index to make Developer a column instead of the index\n",
    "publisher_stats = publisher_stats.reset_index()\n"
   ]
  },
  {
   "cell_type": "code",
   "execution_count": 62,
   "id": "cfc31361",
   "metadata": {},
   "outputs": [
    {
     "data": {
      "text/html": [
       "<div>\n",
       "<style scoped>\n",
       "    .dataframe tbody tr th:only-of-type {\n",
       "        vertical-align: middle;\n",
       "    }\n",
       "\n",
       "    .dataframe tbody tr th {\n",
       "        vertical-align: top;\n",
       "    }\n",
       "\n",
       "    .dataframe thead th {\n",
       "        text-align: right;\n",
       "    }\n",
       "</style>\n",
       "<table border=\"1\" class=\"dataframe\">\n",
       "  <thead>\n",
       "    <tr style=\"text-align: right;\">\n",
       "      <th></th>\n",
       "      <th>Publishers</th>\n",
       "      <th>total_releases</th>\n",
       "      <th>total_downloads</th>\n",
       "      <th>average_rating</th>\n",
       "      <th>average_playtime</th>\n",
       "      <th>F2P Games</th>\n",
       "    </tr>\n",
       "  </thead>\n",
       "  <tbody>\n",
       "    <tr>\n",
       "      <th>0</th>\n",
       "      <td>Valve</td>\n",
       "      <td>10</td>\n",
       "      <td>263860000</td>\n",
       "      <td>85.434342</td>\n",
       "      <td>7458.000000</td>\n",
       "      <td>6</td>\n",
       "    </tr>\n",
       "    <tr>\n",
       "      <th>1</th>\n",
       "      <td>Ubisoft</td>\n",
       "      <td>86</td>\n",
       "      <td>146680000</td>\n",
       "      <td>72.548544</td>\n",
       "      <td>1282.639535</td>\n",
       "      <td>4</td>\n",
       "    </tr>\n",
       "    <tr>\n",
       "      <th>2</th>\n",
       "      <td>Electronic Arts</td>\n",
       "      <td>69</td>\n",
       "      <td>125225000</td>\n",
       "      <td>77.874519</td>\n",
       "      <td>1523.144928</td>\n",
       "      <td>6</td>\n",
       "    </tr>\n",
       "    <tr>\n",
       "      <th>3</th>\n",
       "      <td>Xbox Game Studios</td>\n",
       "      <td>47</td>\n",
       "      <td>105555000</td>\n",
       "      <td>82.647188</td>\n",
       "      <td>1126.148936</td>\n",
       "      <td>3</td>\n",
       "    </tr>\n",
       "    <tr>\n",
       "      <th>4</th>\n",
       "      <td>Bethesda Softworks</td>\n",
       "      <td>43</td>\n",
       "      <td>91405000</td>\n",
       "      <td>74.829251</td>\n",
       "      <td>1138.372093</td>\n",
       "      <td>8</td>\n",
       "    </tr>\n",
       "    <tr>\n",
       "      <th>5</th>\n",
       "      <td>KRAFTON, Inc.</td>\n",
       "      <td>2</td>\n",
       "      <td>75750000</td>\n",
       "      <td>64.294332</td>\n",
       "      <td>11084.000000</td>\n",
       "      <td>1</td>\n",
       "    </tr>\n",
       "    <tr>\n",
       "      <th>6</th>\n",
       "      <td>Amazon Games</td>\n",
       "      <td>1</td>\n",
       "      <td>75000000</td>\n",
       "      <td>66.878484</td>\n",
       "      <td>7432.000000</td>\n",
       "      <td>0</td>\n",
       "    </tr>\n",
       "    <tr>\n",
       "      <th>7</th>\n",
       "      <td>SEGA</td>\n",
       "      <td>122</td>\n",
       "      <td>65680000</td>\n",
       "      <td>76.195987</td>\n",
       "      <td>1303.516393</td>\n",
       "      <td>14</td>\n",
       "    </tr>\n",
       "    <tr>\n",
       "      <th>8</th>\n",
       "      <td>Paradox Interactive</td>\n",
       "      <td>58</td>\n",
       "      <td>60200000</td>\n",
       "      <td>70.246436</td>\n",
       "      <td>1581.068966</td>\n",
       "      <td>4</td>\n",
       "    </tr>\n",
       "    <tr>\n",
       "      <th>9</th>\n",
       "      <td>Coffee Stain Publishing</td>\n",
       "      <td>10</td>\n",
       "      <td>57685000</td>\n",
       "      <td>88.742795</td>\n",
       "      <td>1347.700000</td>\n",
       "      <td>0</td>\n",
       "    </tr>\n",
       "  </tbody>\n",
       "</table>\n",
       "</div>"
      ],
      "text/plain": [
       "                Publishers  total_releases  total_downloads  average_rating  \\\n",
       "0                    Valve              10        263860000       85.434342   \n",
       "1                  Ubisoft              86        146680000       72.548544   \n",
       "2          Electronic Arts              69        125225000       77.874519   \n",
       "3        Xbox Game Studios              47        105555000       82.647188   \n",
       "4       Bethesda Softworks              43         91405000       74.829251   \n",
       "5            KRAFTON, Inc.               2         75750000       64.294332   \n",
       "6             Amazon Games               1         75000000       66.878484   \n",
       "7                     SEGA             122         65680000       76.195987   \n",
       "8      Paradox Interactive              58         60200000       70.246436   \n",
       "9  Coffee Stain Publishing              10         57685000       88.742795   \n",
       "\n",
       "   average_playtime  F2P Games  \n",
       "0       7458.000000          6  \n",
       "1       1282.639535          4  \n",
       "2       1523.144928          6  \n",
       "3       1126.148936          3  \n",
       "4       1138.372093          8  \n",
       "5      11084.000000          1  \n",
       "6       7432.000000          0  \n",
       "7       1303.516393         14  \n",
       "8       1581.068966          4  \n",
       "9       1347.700000          0  "
      ]
     },
     "execution_count": 62,
     "metadata": {},
     "output_type": "execute_result"
    }
   ],
   "source": [
    "#Add column of f2p games:\n",
    "# count number of games with price > 0 for each developer\n",
    "price_count_publ = games.groupby('Publishers')['Price'].apply(lambda x: (x == 0).sum())\n",
    "\n",
    "\n",
    "# merge the two new columns with the previous dataframe\n",
    "publisher_stats = pd.merge(publisher_stats, price_count_publ, on='Publishers')\n",
    "\n",
    "\n",
    "# rename the columns\n",
    "publisher_stats.rename(columns={'Price':'F2P Games'}, inplace=True)\n",
    "publisher_stats"
   ]
  },
  {
   "cell_type": "markdown",
   "id": "d3dd8404",
   "metadata": {},
   "source": [
    "- We can see how most of the Publishers have a large number of releases. One game hit can lead you to be part of the top developers but that is not the case for publishers(just Amazon Games and Krafton are under 10 games released). This implies that the Publishers' market is more centralized than the developers'. \n",
    "- On average, the average_rating is lower than in the developers top10. A large number of releases can be the cause for this but at the same time, publisher with a small number of releases like Amazon and Krafton have the lowest rating. This could be a topic to go deeper on. Coffee Stain Publishing and Valve are the publisher with the best rating. Xbox Game Studios also do well with an average rating of 82. The rest of publishers are under 80 average rating, Krafton and Amazon Games are the worst with average rating near 65.\n",
    "- The tendency in average playtime is clear, the games with more releases are the games with the worst average playtime, so the number of releases does have a negative impact on playtime. Krafton and Amazon, the companies with fewer releases are in the top 3 of average playtime with Valve.  These 3 companies are over 7000h average playtime, the rest of the Publishers are below 2000h of playtime.\n",
    "- Just 10% of all the games released by the top 10 publishers are free-to-play. As happened with Developers, Valve is the only Publisher that releases more free than paid games. \n",
    "\n",
    "In conclusion, the publishers' market is dominated by some big giants that released a lot of games. There is no relationship between downloads and average rating, it looks like some Publishers are just able to publish games that players like more. When looking at average playtime, we see that the number of games released has a negative impact on average playtime. Finally, free games are not a strategy that top Publishers like, Valve is the exception. "
   ]
  },
  {
   "cell_type": "code",
   "execution_count": 68,
   "id": "e4aef312",
   "metadata": {},
   "outputs": [
    {
     "data": {
      "text/html": [
       "<div>\n",
       "<style scoped>\n",
       "    .dataframe tbody tr th:only-of-type {\n",
       "        vertical-align: middle;\n",
       "    }\n",
       "\n",
       "    .dataframe tbody tr th {\n",
       "        vertical-align: top;\n",
       "    }\n",
       "\n",
       "    .dataframe thead th {\n",
       "        text-align: right;\n",
       "    }\n",
       "</style>\n",
       "<table border=\"1\" class=\"dataframe\">\n",
       "  <thead>\n",
       "    <tr style=\"text-align: right;\">\n",
       "      <th></th>\n",
       "      <th>Name</th>\n",
       "      <th>Owners</th>\n",
       "      <th>Rating</th>\n",
       "      <th>Peak CCU</th>\n",
       "      <th>Positive</th>\n",
       "      <th>Negative</th>\n",
       "      <th>Rating</th>\n",
       "      <th>Price</th>\n",
       "    </tr>\n",
       "  </thead>\n",
       "  <tbody>\n",
       "    <tr>\n",
       "      <th>1143</th>\n",
       "      <td>Puppet Fever</td>\n",
       "      <td>10000</td>\n",
       "      <td>77.388503</td>\n",
       "      <td>0</td>\n",
       "      <td>30</td>\n",
       "      <td>2</td>\n",
       "      <td>77.388503</td>\n",
       "      <td>14.99</td>\n",
       "    </tr>\n",
       "    <tr>\n",
       "      <th>4547</th>\n",
       "      <td>A Story About My Uncle</td>\n",
       "      <td>7500000</td>\n",
       "      <td>89.720885</td>\n",
       "      <td>19</td>\n",
       "      <td>25589</td>\n",
       "      <td>2277</td>\n",
       "      <td>89.720885</td>\n",
       "      <td>14.99</td>\n",
       "    </tr>\n",
       "    <tr>\n",
       "      <th>12422</th>\n",
       "      <td>Sanctum 2</td>\n",
       "      <td>3500000</td>\n",
       "      <td>87.484545</td>\n",
       "      <td>63</td>\n",
       "      <td>12469</td>\n",
       "      <td>1380</td>\n",
       "      <td>87.484545</td>\n",
       "      <td>14.99</td>\n",
       "    </tr>\n",
       "    <tr>\n",
       "      <th>17631</th>\n",
       "      <td>HUNTDOWN</td>\n",
       "      <td>75000</td>\n",
       "      <td>90.138322</td>\n",
       "      <td>34</td>\n",
       "      <td>1714</td>\n",
       "      <td>88</td>\n",
       "      <td>90.138322</td>\n",
       "      <td>19.99</td>\n",
       "    </tr>\n",
       "    <tr>\n",
       "      <th>20424</th>\n",
       "      <td>Super Sanctum TD</td>\n",
       "      <td>350000</td>\n",
       "      <td>83.422807</td>\n",
       "      <td>0</td>\n",
       "      <td>1322</td>\n",
       "      <td>175</td>\n",
       "      <td>83.422807</td>\n",
       "      <td>4.99</td>\n",
       "    </tr>\n",
       "    <tr>\n",
       "      <th>21616</th>\n",
       "      <td>Satisfactory</td>\n",
       "      <td>3500000</td>\n",
       "      <td>95.662975</td>\n",
       "      <td>22538</td>\n",
       "      <td>97842</td>\n",
       "      <td>2841</td>\n",
       "      <td>95.662975</td>\n",
       "      <td>29.99</td>\n",
       "    </tr>\n",
       "    <tr>\n",
       "      <th>25823</th>\n",
       "      <td>Valheim</td>\n",
       "      <td>35000000</td>\n",
       "      <td>94.385208</td>\n",
       "      <td>25035</td>\n",
       "      <td>337177</td>\n",
       "      <td>16241</td>\n",
       "      <td>94.385208</td>\n",
       "      <td>19.99</td>\n",
       "    </tr>\n",
       "    <tr>\n",
       "      <th>33076</th>\n",
       "      <td>Sanctum</td>\n",
       "      <td>750000</td>\n",
       "      <td>85.498745</td>\n",
       "      <td>9</td>\n",
       "      <td>2802</td>\n",
       "      <td>330</td>\n",
       "      <td>85.498745</td>\n",
       "      <td>9.99</td>\n",
       "    </tr>\n",
       "    <tr>\n",
       "      <th>41204</th>\n",
       "      <td>Goat Simulator</td>\n",
       "      <td>3500000</td>\n",
       "      <td>88.360889</td>\n",
       "      <td>123</td>\n",
       "      <td>53579</td>\n",
       "      <td>5950</td>\n",
       "      <td>88.360889</td>\n",
       "      <td>9.99</td>\n",
       "    </tr>\n",
       "    <tr>\n",
       "      <th>43252</th>\n",
       "      <td>Deep Rock Galactic</td>\n",
       "      <td>3500000</td>\n",
       "      <td>95.365073</td>\n",
       "      <td>10087</td>\n",
       "      <td>138093</td>\n",
       "      <td>4679</td>\n",
       "      <td>95.365073</td>\n",
       "      <td>29.99</td>\n",
       "    </tr>\n",
       "  </tbody>\n",
       "</table>\n",
       "</div>"
      ],
      "text/plain": [
       "                         Name    Owners     Rating  Peak CCU  Positive  \\\n",
       "1143             Puppet Fever     10000  77.388503         0        30   \n",
       "4547   A Story About My Uncle   7500000  89.720885        19     25589   \n",
       "12422               Sanctum 2   3500000  87.484545        63     12469   \n",
       "17631                HUNTDOWN     75000  90.138322        34      1714   \n",
       "20424        Super Sanctum TD    350000  83.422807         0      1322   \n",
       "21616            Satisfactory   3500000  95.662975     22538     97842   \n",
       "25823                 Valheim  35000000  94.385208     25035    337177   \n",
       "33076                 Sanctum    750000  85.498745         9      2802   \n",
       "41204          Goat Simulator   3500000  88.360889       123     53579   \n",
       "43252      Deep Rock Galactic   3500000  95.365073     10087    138093   \n",
       "\n",
       "       Negative     Rating  Price  \n",
       "1143          2  77.388503  14.99  \n",
       "4547       2277  89.720885  14.99  \n",
       "12422      1380  87.484545  14.99  \n",
       "17631        88  90.138322  19.99  \n",
       "20424       175  83.422807   4.99  \n",
       "21616      2841  95.662975  29.99  \n",
       "25823     16241  94.385208  19.99  \n",
       "33076       330  85.498745   9.99  \n",
       "41204      5950  88.360889   9.99  \n",
       "43252      4679  95.365073  29.99  "
      ]
     },
     "execution_count": 68,
     "metadata": {},
     "output_type": "execute_result"
    }
   ],
   "source": [
    "games[(games['Publishers'] =='Coffee Stain Publishing')][['Name','Owners','Rating', 'Peak CCU', 'Positive','Negative','Rating','Price']]"
   ]
  },
  {
   "cell_type": "markdown",
   "id": "ef14b8bf",
   "metadata": {},
   "source": [
    "CONCLUSION\n",
    "\n",
    "PRICE TYPE\n",
    "- Steam has a saturation of cheap games. They are the most released type of game but they have the worst performance in avg downloads, rating and playtime.\n",
    "- On average expensive games are the best performers in all the categories.\n",
    "- In absolute values, Free-to-Play games and Moderate games dominate the top 100.\n",
    "\n",
    "GENRE\n",
    "- MMOs attract a lot of players(most downloads and playtime on average) but fail to meet expectations and are the worst genre by rating.\n",
    "- Action, Adventure & Indie games have a lot of releases and perform well in total downloads and rating.\n",
    "- RPGs despite not having a lot of releases, perform relatively well in downloads, playtime and rating.\n",
    "\n",
    "DEVELOPERS\n",
    "- No developer dominates the top 100 most downloaded games. One game superhit can bring a developer to the top 100.\n",
    "- Valve is the clear leader in total downloads.\n",
    "- Of the top 10 developers with more downloads, just 2 have more than 10 games released. Games released have a negative impact on average playtime. Valve is the only developer from the top 10 that has more free than paid games.\n",
    "\n",
    "PUBLISHERS\n",
    "\n",
    "- More centralized market than developers. Of the top 10 developers with more downloads, 8 released more than 10 games. Sega released 122. In the top 10 developers, the company with more releases was Capcom with 20. \n",
    "- Valve has less domination than in the developer market but is still the clear leader.\n",
    "- As with developers, games released have a negative impact on average playtime. Valve is also the only publisher with more free than paid games.\n",
    "\n",
    "\n"
   ]
  },
  {
   "cell_type": "code",
   "execution_count": null,
   "id": "0cf93445",
   "metadata": {},
   "outputs": [],
   "source": []
  }
 ],
 "metadata": {
  "kernelspec": {
   "display_name": "Python 3 (ipykernel)",
   "language": "python",
   "name": "python3"
  },
  "language_info": {
   "codemirror_mode": {
    "name": "ipython",
    "version": 3
   },
   "file_extension": ".py",
   "mimetype": "text/x-python",
   "name": "python",
   "nbconvert_exporter": "python",
   "pygments_lexer": "ipython3",
   "version": "3.9.12"
  }
 },
 "nbformat": 4,
 "nbformat_minor": 5
}
